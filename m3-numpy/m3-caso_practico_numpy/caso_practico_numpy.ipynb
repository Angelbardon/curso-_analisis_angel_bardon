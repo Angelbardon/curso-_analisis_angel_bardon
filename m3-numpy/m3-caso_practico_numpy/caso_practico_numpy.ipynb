{
 "cells": [
  {
   "cell_type": "markdown",
   "metadata": {},
   "source": []
  },
  {
   "attachments": {},
   "cell_type": "markdown",
   "metadata": {},
   "source": [
    "## Importar las librerías necesarias"
   ]
  },
  {
   "cell_type": "code",
   "execution_count": 3,
   "metadata": {},
   "outputs": [],
   "source": [
    "import numpy as np\n",
    "import pandas as pd"
   ]
  },
  {
   "attachments": {},
   "cell_type": "markdown",
   "metadata": {},
   "source": [
    "### Carga de datos del CSV y extracción de arrays"
   ]
  },
  {
   "cell_type": "code",
   "execution_count": 4,
   "metadata": {},
   "outputs": [
    {
     "data": {
      "text/html": [
       "<div>\n",
       "<style scoped>\n",
       "    .dataframe tbody tr th:only-of-type {\n",
       "        vertical-align: middle;\n",
       "    }\n",
       "\n",
       "    .dataframe tbody tr th {\n",
       "        vertical-align: top;\n",
       "    }\n",
       "\n",
       "    .dataframe thead th {\n",
       "        text-align: right;\n",
       "    }\n",
       "</style>\n",
       "<table border=\"1\" class=\"dataframe\">\n",
       "  <thead>\n",
       "    <tr style=\"text-align: right;\">\n",
       "      <th></th>\n",
       "      <th>Rank</th>\n",
       "      <th>Name</th>\n",
       "      <th>Platform</th>\n",
       "      <th>Year</th>\n",
       "      <th>Genre</th>\n",
       "      <th>Publisher</th>\n",
       "      <th>NA_Sales</th>\n",
       "      <th>EU_Sales</th>\n",
       "      <th>JP_Sales</th>\n",
       "      <th>Other_Sales</th>\n",
       "      <th>Global_Sales</th>\n",
       "    </tr>\n",
       "  </thead>\n",
       "  <tbody>\n",
       "    <tr>\n",
       "      <th>0</th>\n",
       "      <td>1</td>\n",
       "      <td>Wii Sports</td>\n",
       "      <td>Wii</td>\n",
       "      <td>2006.0</td>\n",
       "      <td>Sports</td>\n",
       "      <td>Nintendo</td>\n",
       "      <td>41.49</td>\n",
       "      <td>29.02</td>\n",
       "      <td>3.77</td>\n",
       "      <td>8.46</td>\n",
       "      <td>82.74</td>\n",
       "    </tr>\n",
       "    <tr>\n",
       "      <th>1</th>\n",
       "      <td>2</td>\n",
       "      <td>Super Mario Bros.</td>\n",
       "      <td>NES</td>\n",
       "      <td>1985.0</td>\n",
       "      <td>Platform</td>\n",
       "      <td>Nintendo</td>\n",
       "      <td>29.08</td>\n",
       "      <td>3.58</td>\n",
       "      <td>6.81</td>\n",
       "      <td>0.77</td>\n",
       "      <td>40.24</td>\n",
       "    </tr>\n",
       "  </tbody>\n",
       "</table>\n",
       "</div>"
      ],
      "text/plain": [
       "   Rank               Name Platform    Year     Genre Publisher  NA_Sales  \\\n",
       "0     1         Wii Sports      Wii  2006.0    Sports  Nintendo     41.49   \n",
       "1     2  Super Mario Bros.      NES  1985.0  Platform  Nintendo     29.08   \n",
       "\n",
       "   EU_Sales  JP_Sales  Other_Sales  Global_Sales  \n",
       "0     29.02      3.77         8.46         82.74  \n",
       "1      3.58      6.81         0.77         40.24  "
      ]
     },
     "execution_count": 4,
     "metadata": {},
     "output_type": "execute_result"
    }
   ],
   "source": [
    "data = pd.read_csv(\"../m3-caso_practico_numpy/videojuegos.csv\")\n",
    "data.head(2)"
   ]
  },
  {
   "cell_type": "code",
   "execution_count": 5,
   "metadata": {},
   "outputs": [],
   "source": [
    "columna_rank = np.array(data['Rank'])\n",
    "columna_name = np.array(data['Name'])\n",
    "columna_platform = np.array(data['Platform'])\n",
    "columna_year = np.array(data['Year'])\n",
    "columna_genre = np.array(data['Genre'])\n",
    "columna_publisher = np.array(data['Publisher'])\n",
    "columna_na_sales = np.array(data['NA_Sales'])\n",
    "columna_eu_sales = np.array(data['EU_Sales'])\n",
    "columna_jp_sales = np.array(data['JP_Sales'])\n",
    "columna_other_sales = np.array(data['Other_Sales'])\n",
    "columna_global_sales = np.array(data['Global_Sales'])"
   ]
  },
  {
   "cell_type": "code",
   "execution_count": 6,
   "metadata": {},
   "outputs": [
    {
     "name": "stdout",
     "output_type": "stream",
     "text": [
      "[1 2 3 4 5]\n",
      "['Wii Sports' 'Super Mario Bros.' 'Mario Kart Wii' 'Wii Sports Resort'\n",
      " 'Pokemon Red/Pokemon Blue']\n",
      "['Wii' 'NES' 'Wii' 'Wii' 'GB']\n",
      "[2006. 1985. 2008. 2009. 1996.]\n",
      "['Sports' 'Platform' 'Racing' 'Sports' 'Role-Playing']\n",
      "['Nintendo' 'Nintendo' 'Nintendo' 'Nintendo' 'Nintendo']\n",
      "[41.49 29.08 15.85 15.75 11.27]\n",
      "[29.02  3.58 12.88 11.01  8.89]\n",
      "[ 3.77  6.81  3.79  3.28 10.22]\n",
      "[8.46 0.77 3.31 2.96 1.  ]\n",
      "[82.74 40.24 35.82 33.   31.37]\n"
     ]
    }
   ],
   "source": [
    "print(columna_rank[:5])\n",
    "print(columna_name[:5])\n",
    "print(columna_platform[:5])\n",
    "print(columna_year[:5])\n",
    "print(columna_genre[:5])\n",
    "print(columna_publisher[:5])\n",
    "print(columna_na_sales[:5])\n",
    "print(columna_eu_sales[:5])\n",
    "print(columna_jp_sales[:5])\n",
    "print(columna_other_sales[:5])\n",
    "print(columna_global_sales[:5])"
   ]
  },
  {
   "attachments": {},
   "cell_type": "markdown",
   "metadata": {},
   "source": [
    "### 3.1 Análisis de las ventas globales\n",
    "Calcular el Promedio, la mediana, la moda y la desviación estándar"
   ]
  },
  {
   "cell_type": "code",
   "execution_count": 13,
   "metadata": {},
   "outputs": [
    {
     "data": {
      "text/plain": [
       "0.5374406555006628"
      ]
     },
     "execution_count": 13,
     "metadata": {},
     "output_type": "execute_result"
    }
   ],
   "source": [
    "media = np.mean(columna_global_sales)\n",
    "media"
   ]
  },
  {
   "cell_type": "code",
   "execution_count": 8,
   "metadata": {},
   "outputs": [
    {
     "data": {
      "text/plain": [
       "0.17"
      ]
     },
     "execution_count": 8,
     "metadata": {},
     "output_type": "execute_result"
    }
   ],
   "source": [
    "mediana = np.median(columna_global_sales)\n",
    "mediana"
   ]
  },
  {
   "cell_type": "code",
   "execution_count": 11,
   "metadata": {},
   "outputs": [
    {
     "data": {
      "text/plain": [
       "array([0.02])"
      ]
     },
     "execution_count": 11,
     "metadata": {},
     "output_type": "execute_result"
    }
   ],
   "source": [
    "# He utilizado pandas porque con numpy no he podido sacar la moda\n",
    "moda = data['Global_Sales'].mode().values \n",
    "moda"
   ]
  },
  {
   "cell_type": "code",
   "execution_count": null,
   "metadata": {},
   "outputs": [
    {
     "data": {
      "text/plain": [
       "1.5549810910296606"
      ]
     },
     "execution_count": 8,
     "metadata": {},
     "output_type": "execute_result"
    }
   ],
   "source": [
    "desviacion_estandar = np.std(columna_global_sales)\n",
    "desviacion_estandar"
   ]
  },
  {
   "attachments": {},
   "cell_type": "markdown",
   "metadata": {},
   "source": [
    "### 3.2 Análisis de ventas por género\n",
    "Encontrar los tres videojuegos con mayores ventas\n"
   ]
  },
  {
   "cell_type": "code",
   "execution_count": null,
   "metadata": {},
   "outputs": [
    {
     "name": "stdout",
     "output_type": "stream",
     "text": [
      "- Action: 1751.18\n",
      "- Sports: 1330.93\n",
      "- Shooter: 1037.37\n"
     ]
    }
   ],
   "source": [
    "ventas_por_genero = data.groupby('Genre')['Global_Sales'].sum()\n",
    "generos_top = ventas_por_genero.sort_values(ascending=False)\n",
    "top_tres_generos = generos_top.head(3)\n",
    "for genero, ventas in top_tres_generos.items():\n",
    "    print(f\"- {genero}: {ventas}\")"
   ]
  },
  {
   "attachments": {},
   "cell_type": "markdown",
   "metadata": {},
   "source": [
    "### 3.3 Análisis de ventas por año\n",
    "Encontrar el año con mayores ventas"
   ]
  },
  {
   "cell_type": "code",
   "execution_count": null,
   "metadata": {},
   "outputs": [
    {
     "name": "stdout",
     "output_type": "stream",
     "text": [
      "Año: 2006.0\n",
      "Ventas globales: 82.74\n"
     ]
    }
   ],
   "source": [
    "columna_year = columna_year[~np.isnan(columna_year)]\n",
    "columna_global_sales = columna_global_sales[~np.isnan(columna_global_sales)]\n",
    "anio_top = columna_year[np.argmax(columna_global_sales)]\n",
    "ventas_top = np.max(columna_global_sales)\n",
    "print(f\"Año: {anio_top}\")\n",
    "print(f\"Ventas globales: {ventas_top}\")"
   ]
  },
  {
   "attachments": {},
   "cell_type": "markdown",
   "metadata": {},
   "source": [
    "### 3.4 Análisis de ventas por platafotma\n",
    "La plataforma que generó las mayores ventas globales"
   ]
  },
  {
   "cell_type": "code",
   "execution_count": null,
   "metadata": {},
   "outputs": [
    {
     "name": "stdout",
     "output_type": "stream",
     "text": [
      "Plataforma: PS2\n",
      "Ventas globales: 1255.64\n"
     ]
    }
   ],
   "source": [
    "ventas_por_plataforma = data.groupby('Platform')['Global_Sales'].sum()\n",
    "plataforma_top = ventas_por_plataforma.idxmax()\n",
    "ventas_top = ventas_por_plataforma.max()\n",
    "print(f\"Plataforma: {plataforma_top}\")\n",
    "print(f\"Ventas globales: {ventas_top}\")"
   ]
  },
  {
   "attachments": {},
   "cell_type": "markdown",
   "metadata": {},
   "source": [
    "### 3.5 Análisis de ventas por editor\n",
    "Encontrar el editor que generó mayores ventas"
   ]
  },
  {
   "cell_type": "code",
   "execution_count": null,
   "metadata": {},
   "outputs": [
    {
     "name": "stdout",
     "output_type": "stream",
     "text": [
      "Editor: Nintendo\n",
      "Ventas globales: 1786.56\n"
     ]
    }
   ],
   "source": [
    "ventas_por_editor = data.groupby('Publisher')['Global_Sales'].sum()\n",
    "editor_top = ventas_por_editor.idxmax()\n",
    "ventas_top = ventas_por_editor.max()\n",
    "print(f\"Editor: {editor_top}\")\n",
    "print(f\"Ventas globales: {ventas_top}\")"
   ]
  },
  {
   "attachments": {},
   "cell_type": "markdown",
   "metadata": {},
   "source": [
    "### 3.6 Comparación de ventas entre plataformas\n",
    "Comparar las ventas globales de los videojuegos de las consolas Nintendo y Sony"
   ]
  },
  {
   "cell_type": "code",
   "execution_count": 10,
   "metadata": {},
   "outputs": [
    {
     "name": "stdout",
     "output_type": "stream",
     "text": [
      "Nintendo y Sony han tenido ventas globales similares.\n"
     ]
    }
   ],
   "source": [
    "nintendo_games = data[data['Platform'] == 'Nintendo']\n",
    "sony_games = data[data['Platform'] == 'Sony']\n",
    "nintendo_global_sales = np.sum(nintendo_games['Global_Sales'].values)\n",
    "sony_global_sales = np.sum(sony_games['Global_Sales'].values)\n",
    "\n",
    "if nintendo_global_sales > sony_global_sales:\n",
    "    print(\"Nintendo ha tenido mayores ventas globales.\")\n",
    "elif nintendo_global_sales < sony_global_sales:\n",
    "    print(\"Sony ha tenido mayores ventas globales.\")\n",
    "else:\n",
    "    print(\"Nintendo y Sony han tenido ventas globales similares.\")"
   ]
  },
  {
   "attachments": {},
   "cell_type": "markdown",
   "metadata": {},
   "source": [
    "### 3.7 Análisis temporal de las ventas globales\n",
    "Calcular las ventas globales de videojuiegos por cada año"
   ]
  },
  {
   "cell_type": "code",
   "execution_count": null,
   "metadata": {},
   "outputs": [
    {
     "data": {
      "text/html": [
       "<div>\n",
       "<style scoped>\n",
       "    .dataframe tbody tr th:only-of-type {\n",
       "        vertical-align: middle;\n",
       "    }\n",
       "\n",
       "    .dataframe tbody tr th {\n",
       "        vertical-align: top;\n",
       "    }\n",
       "\n",
       "    .dataframe thead th {\n",
       "        text-align: right;\n",
       "    }\n",
       "</style>\n",
       "<table border=\"1\" class=\"dataframe\">\n",
       "  <thead>\n",
       "    <tr style=\"text-align: right;\">\n",
       "      <th></th>\n",
       "      <th>Rank</th>\n",
       "      <th>Name</th>\n",
       "      <th>Platform</th>\n",
       "      <th>Year</th>\n",
       "      <th>Genre</th>\n",
       "      <th>Publisher</th>\n",
       "      <th>NA_Sales</th>\n",
       "      <th>EU_Sales</th>\n",
       "      <th>JP_Sales</th>\n",
       "      <th>Other_Sales</th>\n",
       "      <th>Global_Sales</th>\n",
       "    </tr>\n",
       "  </thead>\n",
       "  <tbody>\n",
       "    <tr>\n",
       "      <th>0</th>\n",
       "      <td>1</td>\n",
       "      <td>Wii Sports</td>\n",
       "      <td>Wii</td>\n",
       "      <td>2006.0</td>\n",
       "      <td>Sports</td>\n",
       "      <td>Nintendo</td>\n",
       "      <td>41.49</td>\n",
       "      <td>29.02</td>\n",
       "      <td>3.77</td>\n",
       "      <td>8.46</td>\n",
       "      <td>82.74</td>\n",
       "    </tr>\n",
       "    <tr>\n",
       "      <th>1</th>\n",
       "      <td>2</td>\n",
       "      <td>Super Mario Bros.</td>\n",
       "      <td>NES</td>\n",
       "      <td>1985.0</td>\n",
       "      <td>Platform</td>\n",
       "      <td>Nintendo</td>\n",
       "      <td>29.08</td>\n",
       "      <td>3.58</td>\n",
       "      <td>6.81</td>\n",
       "      <td>0.77</td>\n",
       "      <td>40.24</td>\n",
       "    </tr>\n",
       "  </tbody>\n",
       "</table>\n",
       "</div>"
      ],
      "text/plain": [
       "   Rank               Name Platform    Year     Genre Publisher  NA_Sales  \\\n",
       "0     1         Wii Sports      Wii  2006.0    Sports  Nintendo     41.49   \n",
       "1     2  Super Mario Bros.      NES  1985.0  Platform  Nintendo     29.08   \n",
       "\n",
       "   EU_Sales  JP_Sales  Other_Sales  Global_Sales  \n",
       "0     29.02      3.77         8.46         82.74  \n",
       "1      3.58      6.81         0.77         40.24  "
      ]
     },
     "execution_count": 13,
     "metadata": {},
     "output_type": "execute_result"
    }
   ],
   "source": [
    "data = pd.read_csv(\"../m3-caso_practico_numpy/videojuegos.csv\")\n",
    "data.head(2)"
   ]
  },
  {
   "cell_type": "code",
   "execution_count": null,
   "metadata": {},
   "outputs": [
    {
     "data": {
      "text/plain": [
       "<Axes: title={'center': 'Ventas Globales de Videojuegos por Año'}, xlabel='Año', ylabel='Ventas Globales'>"
      ]
     },
     "execution_count": 14,
     "metadata": {},
     "output_type": "execute_result"
    },
    {
     "data": {
      "image/png": "[encoded data removed]",
      "text/plain": [
       "<Figure size 1000x600 with 1 Axes>"
      ]
     },
     "metadata": {},
     "output_type": "display_data"
    }
   ],
   "source": [
    "ventas_por_año = data.groupby('Year')['Global_Sales'].sum()\n",
    "\n",
    "ventas_por_año.plot(kind='bar', figsize=(10, 6), \n",
    "                    xlabel='Año', ylabel='Ventas Globales', \n",
    "                    title='Ventas Globales de Videojuegos por Año')\n"
   ]
  },
  {
   "attachments": {},
   "cell_type": "markdown",
   "metadata": {},
   "source": [
    "### 3.8 Análisis de ventas por nombre de juego\n",
    "El juego que ha generado mayores ventas globales"
   ]
  },
  {
   "cell_type": "code",
   "execution_count": null,
   "metadata": {},
   "outputs": [
    {
     "name": "stdout",
     "output_type": "stream",
     "text": [
      "El juego con mayores ventas globales es: Wii Sports 82.74\n"
     ]
    }
   ],
   "source": [
    "data_ordenado = data.sort_values(by='Global_Sales', ascending=False)\n",
    "juego_mayor_ventas = data_ordenado.iloc[0]['Name']\n",
    "ventas_mayores = data_ordenado.iloc[0]['Global_Sales']\n",
    "print(f\"El juego con mayores ventas globales es: {juego_mayor_ventas} {ventas_mayores}\")\n"
   ]
  },
  {
   "attachments": {},
   "cell_type": "markdown",
   "metadata": {},
   "source": [
    "### 3.9 Análisis de ventas por género y plataforma\n",
    "Encontrar la plataforma que ha generado las mayores ventas para el género Sport"
   ]
  },
  {
   "cell_type": "code",
   "execution_count": null,
   "metadata": {},
   "outputs": [
    {
     "name": "stdout",
     "output_type": "stream",
     "text": [
      "La plataforma con mayores ventas de  género 'Sports' es: Wii\n"
     ]
    }
   ],
   "source": [
    "videojuegos_sports = data[data['Genre'] == 'Sports']\n",
    "ventas_por_plataforma = videojuegos_sports.groupby('Platform')['Global_Sales'].sum()\n",
    "plataforma_top = ventas_por_plataforma.idxmax()\n",
    "print(f\"La plataforma con mayores ventas de  género 'Sports' es: {plataforma_top}\")\n"
   ]
  }
 ],
 "metadata": {
  "kernelspec": {
   "display_name": "Python 3",
   "language": "python",
   "name": "python3"
  },
  "language_info": {
   "codemirror_mode": {
    "name": "ipython",
    "version": 3
   },
   "file_extension": ".py",
   "mimetype": "text/x-python",
   "name": "python",
   "nbconvert_exporter": "python",
   "pygments_lexer": "ipython3",
   "version": "3.10.11"
  },
  "orig_nbformat": 4
 },
 "nbformat": 4,
 "nbformat_minor": 2
}
