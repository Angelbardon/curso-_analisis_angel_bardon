{
 "cells": [
  {
   "cell_type": "markdown",
   "metadata": {},
   "source": []
  },
  {
   "cell_type": "code",
   "execution_count": 2,
   "metadata": {},
   "outputs": [],
   "source": [
    "import numpy as np\n",
    "import pandas as pd"
   ]
  },
  {
   "cell_type": "code",
   "execution_count": 6,
   "metadata": {},
   "outputs": [
    {
     "data": {
      "text/html": [
       "<div>\n",
       "<style scoped>\n",
       "    .dataframe tbody tr th:only-of-type {\n",
       "        vertical-align: middle;\n",
       "    }\n",
       "\n",
       "    .dataframe tbody tr th {\n",
       "        vertical-align: top;\n",
       "    }\n",
       "\n",
       "    .dataframe thead th {\n",
       "        text-align: right;\n",
       "    }\n",
       "</style>\n",
       "<table border=\"1\" class=\"dataframe\">\n",
       "  <thead>\n",
       "    <tr style=\"text-align: right;\">\n",
       "      <th></th>\n",
       "      <th>Rank</th>\n",
       "      <th>Name</th>\n",
       "      <th>Platform</th>\n",
       "      <th>Year</th>\n",
       "      <th>Genre</th>\n",
       "      <th>Publisher</th>\n",
       "      <th>NA_Sales</th>\n",
       "      <th>EU_Sales</th>\n",
       "      <th>JP_Sales</th>\n",
       "      <th>Other_Sales</th>\n",
       "      <th>Global_Sales</th>\n",
       "    </tr>\n",
       "  </thead>\n",
       "  <tbody>\n",
       "    <tr>\n",
       "      <th>0</th>\n",
       "      <td>1</td>\n",
       "      <td>Wii Sports</td>\n",
       "      <td>Wii</td>\n",
       "      <td>2006.0</td>\n",
       "      <td>Sports</td>\n",
       "      <td>Nintendo</td>\n",
       "      <td>41.49</td>\n",
       "      <td>29.02</td>\n",
       "      <td>3.77</td>\n",
       "      <td>8.46</td>\n",
       "      <td>82.74</td>\n",
       "    </tr>\n",
       "    <tr>\n",
       "      <th>1</th>\n",
       "      <td>2</td>\n",
       "      <td>Super Mario Bros.</td>\n",
       "      <td>NES</td>\n",
       "      <td>1985.0</td>\n",
       "      <td>Platform</td>\n",
       "      <td>Nintendo</td>\n",
       "      <td>29.08</td>\n",
       "      <td>3.58</td>\n",
       "      <td>6.81</td>\n",
       "      <td>0.77</td>\n",
       "      <td>40.24</td>\n",
       "    </tr>\n",
       "  </tbody>\n",
       "</table>\n",
       "</div>"
      ],
      "text/plain": [
       "   Rank               Name Platform    Year     Genre Publisher  NA_Sales  \\\n",
       "0     1         Wii Sports      Wii  2006.0    Sports  Nintendo     41.49   \n",
       "1     2  Super Mario Bros.      NES  1985.0  Platform  Nintendo     29.08   \n",
       "\n",
       "   EU_Sales  JP_Sales  Other_Sales  Global_Sales  \n",
       "0     29.02      3.77         8.46         82.74  \n",
       "1      3.58      6.81         0.77         40.24  "
      ]
     },
     "execution_count": 6,
     "metadata": {},
     "output_type": "execute_result"
    }
   ],
   "source": [
    "data = pd.read_csv(\"../m3-caso_practico_numpy/videojuegos.csv\")\n",
    "data.head(2)"
   ]
  },
  {
   "cell_type": "code",
   "execution_count": 7,
   "metadata": {},
   "outputs": [],
   "source": [
    "columna_rank = np.array(data['Rank'])\n",
    "columna_name = np.array(data['Name'])\n",
    "columna_platform = np.array(data['Platform'])\n",
    "columna_year = np.array(data['Year'])\n",
    "columna_genre = np.array(data['Genre'])\n",
    "columna_publisher = np.array(data['Publisher'])\n",
    "columna_na_sales = np.array(data['NA_Sales'])\n",
    "columna_eu_sales = np.array(data['EU_Sales'])\n",
    "columna_jp_sales = np.array(data['JP_Sales'])\n",
    "columna_other_sales = np.array(data['Other_Sales'])\n",
    "columna_global_sales = np.array(data['Global_Sales'])"
   ]
  },
  {
   "cell_type": "code",
   "execution_count": 8,
   "metadata": {},
   "outputs": [
    {
     "name": "stdout",
     "output_type": "stream",
     "text": [
      "[1 2 3 4 5]\n",
      "['Wii Sports' 'Super Mario Bros.' 'Mario Kart Wii' 'Wii Sports Resort'\n",
      " 'Pokemon Red/Pokemon Blue']\n",
      "['Wii' 'NES' 'Wii' 'Wii' 'GB']\n",
      "[2006. 1985. 2008. 2009. 1996.]\n",
      "['Sports' 'Platform' 'Racing' 'Sports' 'Role-Playing']\n",
      "['Nintendo' 'Nintendo' 'Nintendo' 'Nintendo' 'Nintendo']\n",
      "[41.49 29.08 15.85 15.75 11.27]\n",
      "[29.02  3.58 12.88 11.01  8.89]\n",
      "[ 3.77  6.81  3.79  3.28 10.22]\n",
      "[8.46 0.77 3.31 2.96 1.  ]\n",
      "[82.74 40.24 35.82 33.   31.37]\n"
     ]
    }
   ],
   "source": [
    "print(columna_rank[:5])\n",
    "print(columna_name[:5])\n",
    "print(columna_platform[:5])\n",
    "print(columna_year[:5])\n",
    "print(columna_genre[:5])\n",
    "print(columna_publisher[:5])\n",
    "print(columna_na_sales[:5])\n",
    "print(columna_eu_sales[:5])\n",
    "print(columna_jp_sales[:5])\n",
    "print(columna_other_sales[:5])\n",
    "print(columna_global_sales[:5])"
   ]
  },
  {
   "cell_type": "code",
   "execution_count": 10,
   "metadata": {},
   "outputs": [
    {
     "name": "stdout",
     "output_type": "stream",
     "text": [
      "Media: 0.5374406555006628\n"
     ]
    }
   ],
   "source": [
    "media = np.mean(columna_global_sales)\n",
    "print(\"Media:\", media)"
   ]
  },
  {
   "cell_type": "code",
   "execution_count": 11,
   "metadata": {},
   "outputs": [
    {
     "name": "stdout",
     "output_type": "stream",
     "text": [
      "Mediana: 0.17\n"
     ]
    }
   ],
   "source": [
    "mediana = np.median(columna_global_sales)\n",
    "print(\"Mediana:\", mediana)"
   ]
  },
  {
   "cell_type": "code",
   "execution_count": null,
   "metadata": {},
   "outputs": [],
   "source": [
    "from scipy.stats import mode\n",
    "moda = np.mode(columna_global_sales)\n",
    "print(\"Moda:\", moda.mode[0])"
   ]
  },
  {
   "cell_type": "code",
   "execution_count": 13,
   "metadata": {},
   "outputs": [
    {
     "name": "stdout",
     "output_type": "stream",
     "text": [
      "Desviación estándar: 1.5549810910296606\n"
     ]
    }
   ],
   "source": [
    "desviacion_estandar = np.std(columna_global_sales)\n",
    "print(\"Desviación estándar:\", desviacion_estandar)"
   ]
  },
  {
   "cell_type": "code",
   "execution_count": 19,
   "metadata": {},
   "outputs": [
    {
     "name": "stdout",
     "output_type": "stream",
     "text": [
      "Los tres géneros de juegos con más ventas globales son:\n",
      "- Action: 1751.18\n",
      "- Sports: 1330.93\n",
      "- Shooter: 1037.37\n"
     ]
    }
   ],
   "source": [
    "ventas_por_genero = data.groupby('Genre')['Global_Sales'].sum()\n",
    "generos_top = ventas_por_genero.sort_values(ascending=False)\n",
    "top_tres_generos = generos_top.head(3)\n",
    "print(\"Los tres géneros de juegos con más ventas globales son:\")\n",
    "for genero, ventas in top_tres_generos.items():\n",
    "    print(f\"- {genero}: {ventas}\")"
   ]
  }
 ],
 "metadata": {
  "kernelspec": {
   "display_name": "Python 3",
   "language": "python",
   "name": "python3"
  },
  "language_info": {
   "codemirror_mode": {
    "name": "ipython",
    "version": 3
   },
   "file_extension": ".py",
   "mimetype": "text/x-python",
   "name": "python",
   "nbconvert_exporter": "python",
   "pygments_lexer": "ipython3",
   "version": "3.10.11"
  },
  "orig_nbformat": 4
 },
 "nbformat": 4,
 "nbformat_minor": 2
}
