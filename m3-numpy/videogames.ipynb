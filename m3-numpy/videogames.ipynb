{
 "cells": [
  {
   "cell_type": "code",
   "execution_count": 1,
   "metadata": {},
   "outputs": [],
   "source": [
    "import numpy as np"
   ]
  },
  {
   "cell_type": "code",
   "execution_count": 8,
   "metadata": {},
   "outputs": [
    {
     "data": {
      "text/plain": [
       "array(['Wii Sports', 'Super Mario Bros.', 'Mario Kart Wii',\n",
       "       'Wii Sports Resort', 'Pokemon Red/Pokemon Blue'], dtype='<U132')"
      ]
     },
     "execution_count": 8,
     "metadata": {},
     "output_type": "execute_result"
    }
   ],
   "source": [
    "names= np.genfromtxt('../dataset/vgsales.csv',\n",
    "              usecols=(1), dtype=str, skip_header=1, \n",
    "              delimiter=',', invalid_raise=False)\n",
    "names[:5]"
   ]
  },
  {
   "cell_type": "code",
   "execution_count": 9,
   "metadata": {},
   "outputs": [
    {
     "data": {
      "text/plain": [
       "(16598,)"
      ]
     },
     "execution_count": 9,
     "metadata": {},
     "output_type": "execute_result"
    }
   ],
   "source": [
    "platform = np.genfromtxt('../dataset/vgsales.csv',\n",
    "              usecols=(2), dtype=str, skip_header=1, \n",
    "              delimiter=',')\n",
    "platform.shape"
   ]
  },
  {
   "cell_type": "code",
   "execution_count": 10,
   "metadata": {},
   "outputs": [
    {
     "data": {
      "text/plain": [
       "(16598,)"
      ]
     },
     "execution_count": 10,
     "metadata": {},
     "output_type": "execute_result"
    }
   ],
   "source": [
    "year= np.genfromtxt('../dataset/vgsales.csv',\n",
    "              usecols=(3), dtype=int, skip_header=1, \n",
    "              delimiter=',')\n",
    "year.shape"
   ]
  },
  {
   "cell_type": "code",
   "execution_count": 11,
   "metadata": {},
   "outputs": [
    {
     "data": {
      "text/plain": [
       "(16598,)"
      ]
     },
     "execution_count": 11,
     "metadata": {},
     "output_type": "execute_result"
    }
   ],
   "source": [
    "gernes = np.genfromtxt('../dataset/vgsales.csv',\n",
    "              usecols=(4), dtype=str, skip_header=1, \n",
    "              delimiter=',')\n",
    "gernes.shape"
   ]
  },
  {
   "cell_type": "code",
   "execution_count": 12,
   "metadata": {},
   "outputs": [
    {
     "data": {
      "text/plain": [
       "(16598,)"
      ]
     },
     "execution_count": 12,
     "metadata": {},
     "output_type": "execute_result"
    }
   ],
   "source": [
    "publishers = np.genfromtxt('../dataset/vgsales.csv',\n",
    "              usecols=(5), dtype=str, skip_header=1, \n",
    "              delimiter=',')\n",
    "publishers.shape\n"
   ]
  },
  {
   "cell_type": "code",
   "execution_count": 15,
   "metadata": {},
   "outputs": [
    {
     "data": {
      "text/plain": [
       "(16598,)"
      ]
     },
     "execution_count": 15,
     "metadata": {},
     "output_type": "execute_result"
    }
   ],
   "source": [
    "sales = np.genfromtxt('../dataset/vgsales.csv',\n",
    "              usecols=(6, 7, 8, 9), dtype=float, skip_header=1, \n",
    "              delimiter=',')\n",
    "sales.shape"
   ]
  },
  {
   "cell_type": "code",
   "execution_count": 16,
   "metadata": {},
   "outputs": [
    {
     "data": {
      "text/plain": [
       "array([[41.49, 29.02,  3.77,  8.46],\n",
       "       [29.08,  3.58,  6.81,  0.77],\n",
       "       [15.85, 12.88,  3.79,  3.31],\n",
       "       ...,\n",
       "       [ 0.  ,  0.  ,  0.  ,  0.  ],\n",
       "       [ 0.  ,  0.01,  0.  ,  0.  ],\n",
       "       [ 0.01,  0.  ,  0.  ,  0.  ]])"
      ]
     },
     "execution_count": 16,
     "metadata": {},
     "output_type": "execute_result"
    }
   ],
   "source": [
    "\n",
    "# set_printoptions(suppress) quita valores especiales\n",
    "np.set_printoptions(suppress=True)\n",
    "sales"
   ]
  },
  {
   "cell_type": "code",
   "execution_count": 17,
   "metadata": {},
   "outputs": [
    {
     "data": {
      "text/plain": [
       "array([82.74, 40.24, 35.83, ...,  0.  ,  0.01,  0.01])"
      ]
     },
     "execution_count": 17,
     "metadata": {},
     "output_type": "execute_result"
    }
   ],
   "source": [
    "# Calcular ventas totales en horizontal con el 1\n",
    "np.sum(sales, axis=1)"
   ]
  },
  {
   "cell_type": "code",
   "execution_count": 18,
   "metadata": {},
   "outputs": [
    {
     "data": {
      "text/plain": [
       "array([82.74, 40.24, 35.83, ...,  0.  ,  0.01,  0.01])"
      ]
     },
     "execution_count": 18,
     "metadata": {},
     "output_type": "execute_result"
    }
   ],
   "source": [
    "total_sales = np.sum(sales, axis=1)\n",
    "total_sales"
   ]
  },
  {
   "cell_type": "code",
   "execution_count": 22,
   "metadata": {},
   "outputs": [
    {
     "data": {
      "text/plain": [
       "array([False, False, False, ..., False, False, False])"
      ]
     },
     "execution_count": 22,
     "metadata": {},
     "output_type": "execute_result"
    }
   ],
   "source": [
    "# para detectar si hay nan\n",
    "isnan = np.isnan(total_sales)\n",
    "isnan[isnan == True]"
   ]
  },
  {
   "cell_type": "code",
   "execution_count": 23,
   "metadata": {},
   "outputs": [
    {
     "name": "stdout",
     "output_type": "stream",
     "text": [
      "mean: nan)\n",
      "median: nan\n",
      "max: nan\n",
      "min: nan\n",
      "std. nan\n"
     ]
    }
   ],
   "source": [
    "print(f\"mean: {np.mean(total_sales)})\")\n",
    "print(f\"median: {np.median(total_sales)}\")\n",
    "print(f\"max: {np.min(total_sales)}\")\n",
    "print(f\"min: {np.min(total_sales)}\")\n",
    "print(f\"std. {np.std(total_sales)}\")"
   ]
  },
  {
   "cell_type": "code",
   "execution_count": 24,
   "metadata": {},
   "outputs": [
    {
     "name": "stdout",
     "output_type": "stream",
     "text": [
      "Hay NaN: True\n",
      "Hay infinito: False\n",
      "Hay infinito neg: False\n"
     ]
    }
   ],
   "source": [
    "print(f\"Hay NaN: {np.isnan(total_sales).any()}\")\n",
    "print(f\"Hay infinito: {np.isinf(total_sales).any()}\")\n",
    "print(f\"Hay infinito neg: {np.isneginf(total_sales).any()}\")\n"
   ]
  },
  {
   "cell_type": "code",
   "execution_count": 25,
   "metadata": {},
   "outputs": [
    {
     "data": {
      "text/plain": [
       "123"
      ]
     },
     "execution_count": 25,
     "metadata": {},
     "output_type": "execute_result"
    }
   ],
   "source": [
    "# contar cuantos NaN hay\n",
    "len(total_sales[np.isnan(total_sales)])\n"
   ]
  },
  {
   "cell_type": "code",
   "execution_count": 28,
   "metadata": {},
   "outputs": [
    {
     "name": "stdout",
     "output_type": "stream",
     "text": [
      "16598\n",
      "False\n"
     ]
    }
   ],
   "source": [
    "# Reemplazar por 0 o -1\n",
    "total_sales2 = np.nan_to_num(total_sales, nan=0)\n",
    "print(f\"{len(total_sales2)}\")\n",
    "print(f\"{np.isnan(total_sales2).any()}\") \n"
   ]
  },
  {
   "cell_type": "code",
   "execution_count": 29,
   "metadata": {},
   "outputs": [
    {
     "data": {
      "text/plain": [
       "False"
      ]
     },
     "execution_count": 29,
     "metadata": {},
     "output_type": "execute_result"
    }
   ],
   "source": [
    "# Calcular la media de total_sales sin nan\n",
    "total_sales_3 = np.nansum(sales, axis=1)\n",
    "np.isnan(total_sales_3).any()\n"
   ]
  },
  {
   "cell_type": "code",
   "execution_count": null,
   "metadata": {},
   "outputs": [],
   "source": []
  },
  {
   "cell_type": "code",
   "execution_count": 30,
   "metadata": {},
   "outputs": [
    {
     "data": {
      "text/plain": [
       "array([[41.49, 29.02,  3.77,  8.46],\n",
       "       [29.08,  3.58,  6.81,  0.77],\n",
       "       [15.85, 12.88,  3.79,  3.31],\n",
       "       ...,\n",
       "       [ 0.  ,  0.  ,  0.  ,  0.  ],\n",
       "       [ 0.  ,  0.01,  0.  ,  0.  ],\n",
       "       [ 0.01,  0.  ,  0.  ,  0.  ]])"
      ]
     },
     "execution_count": 30,
     "metadata": {},
     "output_type": "execute_result"
    }
   ],
   "source": [
    "np.isnan(sales).any()\n",
    "np.nan_to_num(sales, nan=0)"
   ]
  },
  {
   "cell_type": "code",
   "execution_count": 31,
   "metadata": {},
   "outputs": [
    {
     "data": {
      "text/plain": [
       "array([41.49, 29.02,  3.77, ...,  0.  ,  0.  ,  0.  ])"
      ]
     },
     "execution_count": 31,
     "metadata": {},
     "output_type": "execute_result"
    }
   ],
   "source": [
    "sales_good = sales[~(np.isnan(sales))]\n",
    "sales_good"
   ]
  },
  {
   "cell_type": "code",
   "execution_count": 33,
   "metadata": {},
   "outputs": [
    {
     "name": "stdout",
     "output_type": "stream",
     "text": [
      "(16598, 4)\n",
      "True\n"
     ]
    }
   ],
   "source": [
    "# True significa que hay nulos(NaN)\n",
    "print(sales.shape)\n",
    "print(np.isnan(sales).any())"
   ]
  },
  {
   "cell_type": "code",
   "execution_count": 36,
   "metadata": {},
   "outputs": [],
   "source": [
    "mean_per_column = np.nanmean(sales,  axis=0)\n",
    "mask = np.isnan(sales)\n",
    "for i in range(sales.shape[1]):\n",
    "    sales[mask[:, i], i] = mean_per_column[i]"
   ]
  },
  {
   "cell_type": "code",
   "execution_count": 35,
   "metadata": {},
   "outputs": [
    {
     "name": "stdout",
     "output_type": "stream",
     "text": [
      "(16598, 4)\n",
      "False\n"
     ]
    }
   ],
   "source": [
    "print(sales.shape)\n",
    "print(np.isnan(sales).any()) #  false singifica que no hay NaN"
   ]
  }
 ],
 "metadata": {
  "kernelspec": {
   "display_name": "Python 3",
   "language": "python",
   "name": "python3"
  },
  "language_info": {
   "codemirror_mode": {
    "name": "ipython",
    "version": 3
   },
   "file_extension": ".py",
   "mimetype": "text/x-python",
   "name": "python",
   "nbconvert_exporter": "python",
   "pygments_lexer": "ipython3",
   "version": "3.10.11"
  },
  "orig_nbformat": 4
 },
 "nbformat": 4,
 "nbformat_minor": 2
}
