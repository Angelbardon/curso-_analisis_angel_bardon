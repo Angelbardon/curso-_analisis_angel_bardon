{
 "cells": [
  {
   "cell_type": "code",
   "execution_count": 3,
   "metadata": {},
   "outputs": [],
   "source": [
    "import numpy as np"
   ]
  },
  {
   "cell_type": "code",
   "execution_count": 4,
   "metadata": {},
   "outputs": [
    {
     "data": {
      "text/plain": [
       "array(['Wii Sports', 'Super Mario Bros.', 'Mario Kart Wii',\n",
       "       'Wii Sports Resort', 'Pokemon Red/Pokemon Blue'], dtype='<U132')"
      ]
     },
     "execution_count": 4,
     "metadata": {},
     "output_type": "execute_result"
    }
   ],
   "source": [
    "names= np.genfromtxt('../dataset/vgsales.csv',\n",
    "              usecols=(1), dtype=str, skip_header=1, \n",
    "              delimiter=',', invalid_raise=False)\n",
    "names[:5]"
   ]
  },
  {
   "cell_type": "code",
   "execution_count": 5,
   "metadata": {},
   "outputs": [
    {
     "data": {
      "text/plain": [
       "(16599,)"
      ]
     },
     "execution_count": 5,
     "metadata": {},
     "output_type": "execute_result"
    }
   ],
   "source": [
    "platform = np.genfromtxt('../dataset/vgsales.csv',\n",
    "              usecols=(2), dtype=str, skip_header=1, \n",
    "              delimiter=',')\n",
    "platform.shape"
   ]
  },
  {
   "cell_type": "code",
   "execution_count": 6,
   "metadata": {},
   "outputs": [
    {
     "data": {
      "text/plain": [
       "(16599,)"
      ]
     },
     "execution_count": 6,
     "metadata": {},
     "output_type": "execute_result"
    }
   ],
   "source": [
    "year= np.genfromtxt('../dataset/vgsales.csv',\n",
    "              usecols=(3), dtype=int, skip_header=1, \n",
    "              delimiter=',')\n",
    "year.shape"
   ]
  },
  {
   "cell_type": "code",
   "execution_count": 7,
   "metadata": {},
   "outputs": [
    {
     "data": {
      "text/plain": [
       "(16599,)"
      ]
     },
     "execution_count": 7,
     "metadata": {},
     "output_type": "execute_result"
    }
   ],
   "source": [
    "gernes = np.genfromtxt('../dataset/vgsales.csv',\n",
    "              usecols=(4), dtype=str, skip_header=1, \n",
    "              delimiter=',')\n",
    "gernes.shape"
   ]
  },
  {
   "cell_type": "code",
   "execution_count": 8,
   "metadata": {},
   "outputs": [
    {
     "data": {
      "text/plain": [
       "(16599,)"
      ]
     },
     "execution_count": 8,
     "metadata": {},
     "output_type": "execute_result"
    }
   ],
   "source": [
    "publishers = np.genfromtxt('../dataset/vgsales.csv',\n",
    "              usecols=(5), dtype=str, skip_header=1, \n",
    "              delimiter=',')\n",
    "publishers.shape\n"
   ]
  },
  {
   "cell_type": "code",
   "execution_count": 9,
   "metadata": {},
   "outputs": [
    {
     "data": {
      "text/plain": [
       "(16599, 4)"
      ]
     },
     "execution_count": 9,
     "metadata": {},
     "output_type": "execute_result"
    }
   ],
   "source": [
    "sales = np.genfromtxt('../dataset/vgsales.csv',\n",
    "              usecols=(6, 7, 8, 9), dtype=float, skip_header=1, \n",
    "              delimiter=',')\n",
    "sales.shape"
   ]
  },
  {
   "cell_type": "code",
   "execution_count": 10,
   "metadata": {},
   "outputs": [
    {
     "data": {
      "text/plain": [
       "array([[41.49, 29.02,  3.77,  8.46],\n",
       "       [29.08,  3.58,  6.81,  0.77],\n",
       "       [15.85, 12.88,  3.79,  3.31],\n",
       "       ...,\n",
       "       [ 0.  ,  0.01,  0.  ,  0.  ],\n",
       "       [ 0.01,  0.  ,  0.  ,  0.  ],\n",
       "       [  nan,   nan,   nan,   nan]])"
      ]
     },
     "execution_count": 10,
     "metadata": {},
     "output_type": "execute_result"
    }
   ],
   "source": [
    "\n",
    "# set_printoptions(suppress) quita valores especiales\n",
    "np.set_printoptions(suppress=True)\n",
    "sales"
   ]
  },
  {
   "cell_type": "code",
   "execution_count": 11,
   "metadata": {},
   "outputs": [
    {
     "data": {
      "text/plain": [
       "array([82.74, 40.24, 35.83, ...,  0.01,  0.01,   nan])"
      ]
     },
     "execution_count": 11,
     "metadata": {},
     "output_type": "execute_result"
    }
   ],
   "source": [
    "# Calcular ventas totales en horizontal con el 1\n",
    "np.sum(sales, axis=1)"
   ]
  },
  {
   "cell_type": "code",
   "execution_count": 12,
   "metadata": {},
   "outputs": [
    {
     "data": {
      "text/plain": [
       "array([82.74, 40.24, 35.83, ...,  0.01,  0.01,   nan])"
      ]
     },
     "execution_count": 12,
     "metadata": {},
     "output_type": "execute_result"
    }
   ],
   "source": [
    "total_sales = np.sum(sales, axis=1)\n",
    "total_sales"
   ]
  },
  {
   "cell_type": "code",
   "execution_count": 13,
   "metadata": {},
   "outputs": [
    {
     "data": {
      "text/plain": [
       "array([ True,  True,  True,  True,  True,  True,  True,  True,  True,\n",
       "        True,  True,  True,  True,  True,  True,  True,  True,  True,\n",
       "        True,  True,  True,  True,  True,  True,  True,  True,  True,\n",
       "        True,  True,  True,  True,  True,  True,  True,  True,  True,\n",
       "        True,  True,  True,  True,  True,  True,  True,  True,  True,\n",
       "        True,  True,  True,  True,  True,  True,  True,  True,  True,\n",
       "        True,  True,  True,  True,  True,  True,  True,  True,  True,\n",
       "        True,  True,  True,  True,  True,  True,  True,  True,  True,\n",
       "        True,  True,  True,  True,  True,  True,  True,  True,  True,\n",
       "        True,  True,  True,  True,  True,  True,  True,  True,  True,\n",
       "        True,  True,  True,  True,  True,  True,  True,  True,  True,\n",
       "        True,  True,  True,  True,  True,  True,  True,  True,  True,\n",
       "        True,  True,  True,  True,  True,  True,  True,  True,  True,\n",
       "        True,  True,  True,  True,  True,  True,  True])"
      ]
     },
     "execution_count": 13,
     "metadata": {},
     "output_type": "execute_result"
    }
   ],
   "source": [
    "# para detectar si hay nan\n",
    "isnan = np.isnan(total_sales)\n",
    "isnan[isnan == True]"
   ]
  },
  {
   "cell_type": "code",
   "execution_count": 14,
   "metadata": {},
   "outputs": [
    {
     "name": "stdout",
     "output_type": "stream",
     "text": [
      "mean: nan)\n",
      "median: nan\n",
      "max: nan\n",
      "min: nan\n",
      "std. nan\n"
     ]
    }
   ],
   "source": [
    "print(f\"mean: {np.mean(total_sales)})\")\n",
    "print(f\"median: {np.median(total_sales)}\")\n",
    "print(f\"max: {np.min(total_sales)}\")\n",
    "print(f\"min: {np.min(total_sales)}\")\n",
    "print(f\"std. {np.std(total_sales)}\")"
   ]
  },
  {
   "cell_type": "code",
   "execution_count": 15,
   "metadata": {},
   "outputs": [
    {
     "name": "stdout",
     "output_type": "stream",
     "text": [
      "Hay NaN: True\n",
      "Hay infinito: False\n",
      "Hay infinito neg: False\n"
     ]
    }
   ],
   "source": [
    "print(f\"Hay NaN: {np.isnan(total_sales).any()}\")\n",
    "print(f\"Hay infinito: {np.isinf(total_sales).any()}\")\n",
    "print(f\"Hay infinito neg: {np.isneginf(total_sales).any()}\")\n"
   ]
  },
  {
   "cell_type": "code",
   "execution_count": 16,
   "metadata": {},
   "outputs": [
    {
     "data": {
      "text/plain": [
       "124"
      ]
     },
     "execution_count": 16,
     "metadata": {},
     "output_type": "execute_result"
    }
   ],
   "source": [
    "# contar cuantos NaN hay\n",
    "len(total_sales[np.isnan(total_sales)])\n"
   ]
  },
  {
   "cell_type": "code",
   "execution_count": 17,
   "metadata": {},
   "outputs": [
    {
     "name": "stdout",
     "output_type": "stream",
     "text": [
      "16599\n",
      "False\n"
     ]
    }
   ],
   "source": [
    "# Reemplazar por 0 o -1\n",
    "total_sales2 = np.nan_to_num(total_sales, nan=0)\n",
    "print(f\"{len(total_sales2)}\")\n",
    "print(f\"{np.isnan(total_sales2).any()}\") \n"
   ]
  },
  {
   "cell_type": "code",
   "execution_count": 18,
   "metadata": {},
   "outputs": [
    {
     "data": {
      "text/plain": [
       "False"
      ]
     },
     "execution_count": 18,
     "metadata": {},
     "output_type": "execute_result"
    }
   ],
   "source": [
    "# Calcular la media de total_sales sin nan\n",
    "total_sales_3 = np.nansum(sales, axis=1)\n",
    "np.isnan(total_sales_3).any()\n"
   ]
  },
  {
   "cell_type": "code",
   "execution_count": 19,
   "metadata": {},
   "outputs": [
    {
     "data": {
      "text/plain": [
       "array([[41.49, 29.02,  3.77,  8.46],\n",
       "       [29.08,  3.58,  6.81,  0.77],\n",
       "       [15.85, 12.88,  3.79,  3.31],\n",
       "       ...,\n",
       "       [ 0.  ,  0.01,  0.  ,  0.  ],\n",
       "       [ 0.01,  0.  ,  0.  ,  0.  ],\n",
       "       [ 0.  ,  0.  ,  0.  ,  0.  ]])"
      ]
     },
     "execution_count": 19,
     "metadata": {},
     "output_type": "execute_result"
    }
   ],
   "source": [
    "np.isnan(sales).any()\n",
    "np.nan_to_num(sales, nan=0)"
   ]
  },
  {
   "cell_type": "code",
   "execution_count": 20,
   "metadata": {},
   "outputs": [
    {
     "data": {
      "text/plain": [
       "array([41.49, 29.02,  3.77, ...,  0.  ,  0.  ,  0.  ])"
      ]
     },
     "execution_count": 20,
     "metadata": {},
     "output_type": "execute_result"
    }
   ],
   "source": [
    "sales_good = sales[~(np.isnan(sales))]\n",
    "sales_good"
   ]
  },
  {
   "cell_type": "code",
   "execution_count": 21,
   "metadata": {},
   "outputs": [
    {
     "name": "stdout",
     "output_type": "stream",
     "text": [
      "(16599, 4)\n",
      "True\n"
     ]
    }
   ],
   "source": [
    "# True significa que hay nulos(NaN)\n",
    "print(sales.shape)\n",
    "print(np.isnan(sales).any())"
   ]
  },
  {
   "cell_type": "code",
   "execution_count": 22,
   "metadata": {},
   "outputs": [],
   "source": [
    "mean_per_column = np.nanmean(sales,  axis=0)\n",
    "mask = np.isnan(sales)\n",
    "for i in range(sales.shape[1]):\n",
    "    sales[mask[:, i], i] = mean_per_column[i]"
   ]
  },
  {
   "cell_type": "code",
   "execution_count": 23,
   "metadata": {},
   "outputs": [
    {
     "name": "stdout",
     "output_type": "stream",
     "text": [
      "(16599, 4)\n",
      "False\n"
     ]
    }
   ],
   "source": [
    "print(sales.shape)\n",
    "print(np.isnan(sales).any()) #  false singifica que no hay NaN"
   ]
  },
  {
   "cell_type": "code",
   "execution_count": 24,
   "metadata": {},
   "outputs": [
    {
     "name": "stdout",
     "output_type": "stream",
     "text": [
      "mean: nan)\n",
      "median: nan\n",
      "max: nan\n",
      "min: nan\n",
      "std. nan\n"
     ]
    }
   ],
   "source": [
    "print(f\"mean: {np.mean(total_sales)})\")\n",
    "print(f\"median: {np.median(total_sales)}\")\n",
    "print(f\"max: {np.min(total_sales)}\")\n",
    "print(f\"min: {np.min(total_sales)}\")\n",
    "print(f\"std. {np.std(total_sales)}\")"
   ]
  },
  {
   "cell_type": "code",
   "execution_count": 31,
   "metadata": {},
   "outputs": [
    {
     "data": {
      "text/plain": [
       "array([['Wii Sports', 'Super Mario Bros.', 'Mario Kart Wii',\n",
       "        'Wii Sports Resort'],\n",
       "       ['Super Mario Bros.', 'Mario Kart Wii', 'Wii Sports Resort',\n",
       "        'Wii Sports'],\n",
       "       ['Wii Sports', 'Mario Kart Wii', 'Wii Sports Resort',\n",
       "        'Super Mario Bros.'],\n",
       "       ...,\n",
       "       ['Wii Sports Resort', 'Mario Kart Wii', 'Super Mario Bros.',\n",
       "        'Wii Sports'],\n",
       "       ['Wii Sports Resort', 'Super Mario Bros.', 'Mario Kart Wii',\n",
       "        'Wii Sports'],\n",
       "       ['Mario Kart Wii', 'Wii Sports Resort', 'Super Mario Bros.',\n",
       "        'Wii Sports']], dtype='<U132')"
      ]
     },
     "execution_count": 31,
     "metadata": {},
     "output_type": "execute_result"
    }
   ],
   "source": [
    "total_sales = np.genfromtxt('../dataset/vgsales.csv',\n",
    "              usecols=(6, 7, 8, 9), dtype=float, skip_header=1, \n",
    "              delimiter=',')\n",
    "\n",
    "indices = np.argsort(total_sales)[::-1]\n",
    "\n",
    "names[indices]"
   ]
  },
  {
   "cell_type": "code",
   "execution_count": 33,
   "metadata": {},
   "outputs": [
    {
     "data": {
      "text/plain": [
       "array([' A-Kata', ' Badman! What Did I Do to Deserve This?\"',\n",
       "       ' Be Glorious!\"', ' Be Gracious!\"', ' Boku to Himitsu no Chizu\"',\n",
       "       ' Camera', ' Diego', ' Dood!\"', ' Edd n Eddy: Jawbreakers!\"',\n",
       "       ' Edd n Eddy: The Mis-Edventures\"', ' Fashion and Friends\"',\n",
       "       ' Futatabi\"', ' Ginkaku no Inbou\"', ' Hajime Mashita\"',\n",
       "       ' Hidden Dragon\"', ' Himawari no Shoujo\"', ' Inc. Scream Arena\"',\n",
       "       ' Inc. Scream Team\"', ' Inc.\"', ' Inc.: Mega MicroGame$\"',\n",
       "       ' Inc.: Mega Party Game$\"', ' Kai-lan: New Year\\'s Celebration\"',\n",
       "       ' Kai-lan: Super Game Day\"', ' Keiyaku Shikkou Dechai masuu\"',\n",
       "       ' Kimi ni\"', ' Koi Utsutsu: Setsugetsuka Koi Emaki\"',\n",
       "       ' Koiseyo Otome! Love is Power!!!\"',\n",
       "       ' Kono Sekai ni Kami-sama ga Iru to suru Naraba.\"',\n",
       "       ' Kore ga Otoko Dearu!\"', ' London 1969\"', ' Mahjong & Tangram\"',\n",
       "       ' Mon Meilleur Ami\"', ' Monkey Do!\"', ' My Friend',\n",
       "       ' My Lord!? 2\"', ' My Love\"', ' My Way (US sales)\"',\n",
       "       ' Myths & Legends\"', ' Nine Persons', ' PS2', ' PS3', ' Pikachu!\"',\n",
       "       ' Sakini Ike\"', ' Sea', ' Secret Agent', ' Set', ' Set & Style!\"',\n",
       "       ' She Wrote\"', ' Shinitamou Koto Nakare\"',\n",
       "       ' Shinitamou koto Nakare\"', ' Shutsujin! Koisen\"', ' Sun',\n",
       "       ' Ten e Kaere\"', ' The Bad and The Bugly\"',\n",
       "       ' The Doug Williams Edition\"', ' The Witch and The Wardrobe\"',\n",
       "       ' Trade', ' Ware ga Ichizoku Twin Pack\"', ' Ware ga Ichizoku\"',\n",
       "       ' Ware ga Ichizoku: Tasogare Polarstar\"',\n",
       "       ' Yoga & Pilates Workout\"', ' Zenigata ni wa Koi o\"',\n",
       "       ' but wrong system)\"', '000: Dawn of War II - Chaos Rising\"',\n",
       "       '000: Dawn of War II - Retribution\"', '000: Dawn of War II\"',\n",
       "       '000: Dawn of War\"', '000: Dawn of War: Soulstorm\"',\n",
       "       '000: Fire Warrior\"', '000: Space Marine\"', '000: Squad Command\"',\n",
       "       '2600', '3DO', '3DS', 'DC', 'DS', 'GB', 'GBA', 'GC', 'GEN', 'GG',\n",
       "       'N64', 'NES', 'NG', 'Otome\"', 'PC', 'PCFX', 'PS', 'PS2', 'PS3',\n",
       "       'PS4', 'PSP', 'PSV', 'Platform', 'SAT', 'SCD', 'SNES', 'TG16',\n",
       "       'WS', 'Wii', 'WiiU', 'X360', 'XB', 'XOne',\n",
       "       'big Adventures: Ham-Ham Challenge\"'], dtype='<U48')"
      ]
     },
     "execution_count": 33,
     "metadata": {},
     "output_type": "execute_result"
    }
   ],
   "source": [
    "unique_platform = np.unique(platform)\n",
    "unique_platform"
   ]
  }
 ],
 "metadata": {
  "kernelspec": {
   "display_name": "Python 3",
   "language": "python",
   "name": "python3"
  },
  "language_info": {
   "codemirror_mode": {
    "name": "ipython",
    "version": 3
   },
   "file_extension": ".py",
   "mimetype": "text/x-python",
   "name": "python",
   "nbconvert_exporter": "python",
   "pygments_lexer": "ipython3",
   "version": "3.10.11"
  },
  "orig_nbformat": 4
 },
 "nbformat": 4,
 "nbformat_minor": 2
}
