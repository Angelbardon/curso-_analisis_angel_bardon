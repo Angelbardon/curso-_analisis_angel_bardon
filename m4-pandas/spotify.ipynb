{
 "cells": [
  {
   "attachments": {},
   "cell_type": "markdown",
   "metadata": {},
   "source": [
    "## Spotify\n",
    "\n",
    "Leer todos los csv de una carpeta y cargarlos en un unico dataframe de pandas.\n",
    "\n",
    "Este enfoque sirve cuando los CSv tienen la misma estructura de datos"
   ]
  },
  {
   "cell_type": "code",
<<<<<<< HEAD
   "execution_count": 1,
=======
   "execution_count": 18,
>>>>>>> 0e490c365e64630c7981f6cbd864aedbee0ddf54
   "metadata": {},
   "outputs": [],
   "source": [
    "import pandas as pd\n",
    "import numpy as np\n",
    "import os"
   ]
  },
  {
   "attachments": {},
   "cell_type": "markdown",
   "metadata": {},
   "source": [
    "## Cargar datos"
   ]
  },
  {
   "cell_type": "code",
<<<<<<< HEAD
   "execution_count": 2,
=======
   "execution_count": 19,
>>>>>>> 0e490c365e64630c7981f6cbd864aedbee0ddf54
   "metadata": {},
   "outputs": [
    {
     "data": {
      "text/plain": [
       "['1950.csv',\n",
       " '1960.csv',\n",
       " '1970.csv',\n",
       " '1980.csv',\n",
       " '1990.csv',\n",
       " '2000.csv',\n",
       " '2010.csv']"
      ]
     },
<<<<<<< HEAD
     "execution_count": 2,
=======
     "execution_count": 19,
>>>>>>> 0e490c365e64630c7981f6cbd864aedbee0ddf54
     "metadata": {},
     "output_type": "execute_result"
    }
   ],
   "source": [
    "file_names = os.listdir('../dataset/spotify/')\n",
    "file_names\n"
   ]
  },
  {
   "cell_type": "code",
<<<<<<< HEAD
   "execution_count": 3,
=======
   "execution_count": 20,
>>>>>>> 0e490c365e64630c7981f6cbd864aedbee0ddf54
   "metadata": {},
   "outputs": [
    {
     "name": "stdout",
     "output_type": "stream",
     "text": [
      "1950.csv (73, 15)\n",
      "1960.csv (97, 15)\n",
      "1970.csv (104, 15)\n",
      "1980.csv (105, 15)\n",
      "1990.csv (88, 15)\n",
      "2000.csv (100, 15)\n",
      "2010.csv (100, 15)\n"
     ]
    }
   ],
   "source": [
    "df = pd.DataFrame()\n",
    "for file_name in file_names:\n",
    "    df_current = pd.read_csv('../dataset/spotify/' + file_name)\n",
    "    print(file_name, df_current.shape)\n",
    "    df = pd.concat([df, df_current], ignore_index=True)"
   ]
  },
  {
   "cell_type": "code",
<<<<<<< HEAD
   "execution_count": 4,
=======
   "execution_count": 21,
>>>>>>> 0e490c365e64630c7981f6cbd864aedbee0ddf54
   "metadata": {},
   "outputs": [
    {
     "data": {
      "text/plain": [
       "(667, 15)"
      ]
     },
<<<<<<< HEAD
     "execution_count": 4,
=======
     "execution_count": 21,
>>>>>>> 0e490c365e64630c7981f6cbd864aedbee0ddf54
     "metadata": {},
     "output_type": "execute_result"
    }
   ],
   "source": [
    "df.shape"
   ]
  },
  {
   "cell_type": "code",
<<<<<<< HEAD
   "execution_count": 5,
=======
   "execution_count": 22,
>>>>>>> 0e490c365e64630c7981f6cbd864aedbee0ddf54
   "metadata": {},
   "outputs": [
    {
     "data": {
      "text/html": [
       "<div>\n",
       "<style scoped>\n",
       "    .dataframe tbody tr th:only-of-type {\n",
       "        vertical-align: middle;\n",
       "    }\n",
       "\n",
       "    .dataframe tbody tr th {\n",
       "        vertical-align: top;\n",
       "    }\n",
       "\n",
       "    .dataframe thead th {\n",
       "        text-align: right;\n",
       "    }\n",
       "</style>\n",
       "<table border=\"1\" class=\"dataframe\">\n",
       "  <thead>\n",
       "    <tr style=\"text-align: right;\">\n",
       "      <th></th>\n",
       "      <th>Number</th>\n",
       "      <th>title</th>\n",
       "      <th>artist</th>\n",
       "      <th>top genre</th>\n",
       "      <th>year</th>\n",
       "      <th>bpm</th>\n",
       "      <th>nrgy</th>\n",
       "      <th>dnce</th>\n",
       "      <th>dB</th>\n",
       "      <th>live</th>\n",
       "      <th>val</th>\n",
       "      <th>dur</th>\n",
       "      <th>acous</th>\n",
       "      <th>spch</th>\n",
       "      <th>pop</th>\n",
       "    </tr>\n",
       "  </thead>\n",
       "  <tbody>\n",
       "    <tr>\n",
       "      <th>0</th>\n",
       "      <td>1</td>\n",
       "      <td>Put Your Head On My Shoulder</td>\n",
       "      <td>Paul Anka</td>\n",
       "      <td>adult standards</td>\n",
       "      <td>2000</td>\n",
       "      <td>116</td>\n",
       "      <td>34</td>\n",
       "      <td>55</td>\n",
       "      <td>-9</td>\n",
       "      <td>10</td>\n",
       "      <td>47</td>\n",
       "      <td>155</td>\n",
       "      <td>75</td>\n",
       "      <td>3</td>\n",
       "      <td>72</td>\n",
       "    </tr>\n",
       "    <tr>\n",
       "      <th>1</th>\n",
       "      <td>2</td>\n",
       "      <td>Whatever Will Be Will Be (Que Sera Sera) (with...</td>\n",
       "      <td>Doris Day</td>\n",
       "      <td>adult standards</td>\n",
       "      <td>1948</td>\n",
       "      <td>177</td>\n",
       "      <td>34</td>\n",
       "      <td>42</td>\n",
       "      <td>-11</td>\n",
       "      <td>72</td>\n",
       "      <td>78</td>\n",
       "      <td>123</td>\n",
       "      <td>86</td>\n",
       "      <td>4</td>\n",
       "      <td>62</td>\n",
       "    </tr>\n",
       "    <tr>\n",
       "      <th>2</th>\n",
       "      <td>3</td>\n",
       "      <td>Everybody Loves Somebody</td>\n",
       "      <td>Dean Martin</td>\n",
       "      <td>adult standards</td>\n",
       "      <td>2013</td>\n",
       "      <td>81</td>\n",
       "      <td>49</td>\n",
       "      <td>26</td>\n",
       "      <td>-9</td>\n",
       "      <td>34</td>\n",
       "      <td>40</td>\n",
       "      <td>162</td>\n",
       "      <td>81</td>\n",
       "      <td>4</td>\n",
       "      <td>61</td>\n",
       "    </tr>\n",
       "    <tr>\n",
       "      <th>3</th>\n",
       "      <td>4</td>\n",
       "      <td>Take Good Care Of My Baby - 1990 Remastered</td>\n",
       "      <td>Bobby Vee</td>\n",
       "      <td>adult standards</td>\n",
       "      <td>2011</td>\n",
       "      <td>82</td>\n",
       "      <td>43</td>\n",
       "      <td>49</td>\n",
       "      <td>-12</td>\n",
       "      <td>12</td>\n",
       "      <td>66</td>\n",
       "      <td>151</td>\n",
       "      <td>70</td>\n",
       "      <td>6</td>\n",
       "      <td>60</td>\n",
       "    </tr>\n",
       "    <tr>\n",
       "      <th>4</th>\n",
       "      <td>5</td>\n",
       "      <td>A Teenager In Love</td>\n",
       "      <td>Dion &amp; The Belmonts</td>\n",
       "      <td>adult standards</td>\n",
       "      <td>1959</td>\n",
       "      <td>79</td>\n",
       "      <td>38</td>\n",
       "      <td>56</td>\n",
       "      <td>-9</td>\n",
       "      <td>13</td>\n",
       "      <td>62</td>\n",
       "      <td>158</td>\n",
       "      <td>67</td>\n",
       "      <td>3</td>\n",
       "      <td>60</td>\n",
       "    </tr>\n",
       "  </tbody>\n",
       "</table>\n",
       "</div>"
      ],
      "text/plain": [
       "   Number                                              title   \n",
       "0       1                       Put Your Head On My Shoulder  \\\n",
       "1       2  Whatever Will Be Will Be (Que Sera Sera) (with...   \n",
       "2       3                           Everybody Loves Somebody   \n",
       "3       4        Take Good Care Of My Baby - 1990 Remastered   \n",
       "4       5                                 A Teenager In Love   \n",
       "\n",
       "                artist        top genre  year  bpm  nrgy  dnce  dB  live  val   \n",
       "0            Paul Anka  adult standards  2000  116    34    55  -9    10   47  \\\n",
       "1            Doris Day  adult standards  1948  177    34    42 -11    72   78   \n",
       "2          Dean Martin  adult standards  2013   81    49    26  -9    34   40   \n",
       "3            Bobby Vee  adult standards  2011   82    43    49 -12    12   66   \n",
       "4  Dion & The Belmonts  adult standards  1959   79    38    56  -9    13   62   \n",
       "\n",
       "   dur  acous  spch  pop  \n",
       "0  155     75     3   72  \n",
       "1  123     86     4   62  \n",
       "2  162     81     4   61  \n",
       "3  151     70     6   60  \n",
       "4  158     67     3   60  "
      ]
     },
<<<<<<< HEAD
     "execution_count": 5,
=======
     "execution_count": 22,
>>>>>>> 0e490c365e64630c7981f6cbd864aedbee0ddf54
     "metadata": {},
     "output_type": "execute_result"
    }
   ],
   "source": [
    "df.head()"
   ]
  },
  {
   "cell_type": "code",
<<<<<<< HEAD
   "execution_count": 6,
=======
   "execution_count": 23,
>>>>>>> 0e490c365e64630c7981f6cbd864aedbee0ddf54
   "metadata": {},
   "outputs": [
    {
     "data": {
      "text/plain": [
       "(667, 15)"
      ]
     },
<<<<<<< HEAD
     "execution_count": 6,
=======
     "execution_count": 23,
>>>>>>> 0e490c365e64630c7981f6cbd864aedbee0ddf54
     "metadata": {},
     "output_type": "execute_result"
    }
   ],
   "source": [
    "df.shape"
   ]
  },
  {
   "cell_type": "code",
<<<<<<< HEAD
   "execution_count": 7,
=======
   "execution_count": 24,
>>>>>>> 0e490c365e64630c7981f6cbd864aedbee0ddf54
   "metadata": {},
   "outputs": [
    {
     "name": "stdout",
     "output_type": "stream",
     "text": [
      "<class 'pandas.core.frame.DataFrame'>\n",
      "RangeIndex: 667 entries, 0 to 666\n",
      "Data columns (total 15 columns):\n",
      " #   Column     Non-Null Count  Dtype \n",
      "---  ------     --------------  ----- \n",
      " 0   Number     667 non-null    int64 \n",
      " 1   title      667 non-null    object\n",
      " 2   artist     667 non-null    object\n",
      " 3   top genre  651 non-null    object\n",
      " 4   year       667 non-null    int64 \n",
      " 5   bpm        667 non-null    int64 \n",
      " 6   nrgy       667 non-null    int64 \n",
      " 7   dnce       667 non-null    int64 \n",
      " 8   dB         667 non-null    int64 \n",
      " 9   live       667 non-null    int64 \n",
      " 10  val        667 non-null    int64 \n",
      " 11  dur        667 non-null    int64 \n",
      " 12  acous      667 non-null    int64 \n",
      " 13  spch       667 non-null    int64 \n",
      " 14  pop        667 non-null    int64 \n",
      "dtypes: int64(12), object(3)\n",
      "memory usage: 78.3+ KB\n"
     ]
    }
   ],
   "source": [
    "df.info()"
   ]
  },
  {
   "attachments": {},
   "cell_type": "markdown",
   "metadata": {},
   "source": [
    "## Tratamiento de nulos\n",
    "\n",
    "Se detectan valores nulos en la columna top genre"
   ]
  },
  {
   "cell_type": "code",
<<<<<<< HEAD
   "execution_count": 8,
=======
   "execution_count": 25,
>>>>>>> 0e490c365e64630c7981f6cbd864aedbee0ddf54
   "metadata": {},
   "outputs": [
    {
     "data": {
      "text/plain": [
       "Number        0\n",
       "title         0\n",
       "artist        0\n",
       "top genre    16\n",
       "year          0\n",
       "bpm           0\n",
       "nrgy          0\n",
       "dnce          0\n",
       "dB            0\n",
       "live          0\n",
       "val           0\n",
       "dur           0\n",
       "acous         0\n",
       "spch          0\n",
       "pop           0\n",
       "dtype: int64"
      ]
     },
<<<<<<< HEAD
     "execution_count": 8,
=======
     "execution_count": 25,
>>>>>>> 0e490c365e64630c7981f6cbd864aedbee0ddf54
     "metadata": {},
     "output_type": "execute_result"
    }
   ],
   "source": [
    "df.isnull().sum()"
   ]
  },
  {
   "cell_type": "code",
<<<<<<< HEAD
   "execution_count": 9,
=======
   "execution_count": 26,
>>>>>>> 0e490c365e64630c7981f6cbd864aedbee0ddf54
   "metadata": {},
   "outputs": [
    {
     "data": {
      "text/html": [
       "<div>\n",
       "<style scoped>\n",
       "    .dataframe tbody tr th:only-of-type {\n",
       "        vertical-align: middle;\n",
       "    }\n",
       "\n",
       "    .dataframe tbody tr th {\n",
       "        vertical-align: top;\n",
       "    }\n",
       "\n",
       "    .dataframe thead th {\n",
       "        text-align: right;\n",
       "    }\n",
       "</style>\n",
       "<table border=\"1\" class=\"dataframe\">\n",
       "  <thead>\n",
       "    <tr style=\"text-align: right;\">\n",
       "      <th></th>\n",
       "      <th>Number</th>\n",
       "      <th>year</th>\n",
       "      <th>bpm</th>\n",
       "      <th>nrgy</th>\n",
       "      <th>dnce</th>\n",
       "      <th>dB</th>\n",
       "      <th>live</th>\n",
       "      <th>val</th>\n",
       "      <th>dur</th>\n",
       "      <th>acous</th>\n",
       "      <th>spch</th>\n",
       "      <th>pop</th>\n",
       "    </tr>\n",
       "  </thead>\n",
       "  <tbody>\n",
       "    <tr>\n",
       "      <th>count</th>\n",
       "      <td>667.000000</td>\n",
       "      <td>667.000000</td>\n",
       "      <td>667.000000</td>\n",
       "      <td>667.000000</td>\n",
       "      <td>667.000000</td>\n",
       "      <td>667.000000</td>\n",
       "      <td>667.000000</td>\n",
       "      <td>667.000000</td>\n",
       "      <td>667.000000</td>\n",
       "      <td>667.000000</td>\n",
       "      <td>667.000000</td>\n",
       "      <td>667.000000</td>\n",
       "    </tr>\n",
       "    <tr>\n",
       "      <th>mean</th>\n",
       "      <td>48.718141</td>\n",
       "      <td>1994.967016</td>\n",
       "      <td>119.121439</td>\n",
       "      <td>61.394303</td>\n",
       "      <td>60.325337</td>\n",
       "      <td>-8.356822</td>\n",
       "      <td>18.188906</td>\n",
       "      <td>57.311844</td>\n",
       "      <td>224.002999</td>\n",
       "      <td>29.917541</td>\n",
       "      <td>6.179910</td>\n",
       "      <td>63.349325</td>\n",
       "    </tr>\n",
       "    <tr>\n",
       "      <th>std</th>\n",
       "      <td>28.414748</td>\n",
       "      <td>17.771374</td>\n",
       "      <td>25.030827</td>\n",
       "      <td>21.703963</td>\n",
       "      <td>15.051583</td>\n",
       "      <td>3.659509</td>\n",
       "      <td>14.380929</td>\n",
       "      <td>24.400412</td>\n",
       "      <td>59.742591</td>\n",
       "      <td>28.865081</td>\n",
       "      <td>6.191199</td>\n",
       "      <td>13.725845</td>\n",
       "    </tr>\n",
       "    <tr>\n",
       "      <th>min</th>\n",
       "      <td>1.000000</td>\n",
       "      <td>1945.000000</td>\n",
       "      <td>62.000000</td>\n",
       "      <td>6.000000</td>\n",
       "      <td>18.000000</td>\n",
       "      <td>-24.000000</td>\n",
       "      <td>2.000000</td>\n",
       "      <td>6.000000</td>\n",
       "      <td>98.000000</td>\n",
       "      <td>0.000000</td>\n",
       "      <td>2.000000</td>\n",
       "      <td>26.000000</td>\n",
       "    </tr>\n",
       "    <tr>\n",
       "      <th>25%</th>\n",
       "      <td>24.000000</td>\n",
       "      <td>1980.000000</td>\n",
       "      <td>101.500000</td>\n",
       "      <td>45.000000</td>\n",
       "      <td>51.000000</td>\n",
       "      <td>-11.000000</td>\n",
       "      <td>9.000000</td>\n",
       "      <td>39.000000</td>\n",
       "      <td>185.000000</td>\n",
       "      <td>6.000000</td>\n",
       "      <td>3.000000</td>\n",
       "      <td>56.000000</td>\n",
       "    </tr>\n",
       "    <tr>\n",
       "      <th>50%</th>\n",
       "      <td>48.000000</td>\n",
       "      <td>1998.000000</td>\n",
       "      <td>120.000000</td>\n",
       "      <td>64.000000</td>\n",
       "      <td>62.000000</td>\n",
       "      <td>-8.000000</td>\n",
       "      <td>13.000000</td>\n",
       "      <td>58.000000</td>\n",
       "      <td>218.000000</td>\n",
       "      <td>19.000000</td>\n",
       "      <td>4.000000</td>\n",
       "      <td>66.000000</td>\n",
       "    </tr>\n",
       "    <tr>\n",
       "      <th>75%</th>\n",
       "      <td>72.000000</td>\n",
       "      <td>2010.000000</td>\n",
       "      <td>134.000000</td>\n",
       "      <td>79.000000</td>\n",
       "      <td>71.000000</td>\n",
       "      <td>-6.000000</td>\n",
       "      <td>24.000000</td>\n",
       "      <td>78.000000</td>\n",
       "      <td>254.000000</td>\n",
       "      <td>52.000000</td>\n",
       "      <td>6.000000</td>\n",
       "      <td>73.500000</td>\n",
       "    </tr>\n",
       "    <tr>\n",
       "      <th>max</th>\n",
       "      <td>105.000000</td>\n",
       "      <td>2019.000000</td>\n",
       "      <td>199.000000</td>\n",
       "      <td>100.000000</td>\n",
       "      <td>96.000000</td>\n",
       "      <td>-1.000000</td>\n",
       "      <td>93.000000</td>\n",
       "      <td>99.000000</td>\n",
       "      <td>511.000000</td>\n",
       "      <td>100.000000</td>\n",
       "      <td>47.000000</td>\n",
       "      <td>94.000000</td>\n",
       "    </tr>\n",
       "  </tbody>\n",
       "</table>\n",
       "</div>"
      ],
      "text/plain": [
       "           Number         year         bpm        nrgy        dnce   \n",
       "count  667.000000   667.000000  667.000000  667.000000  667.000000  \\\n",
       "mean    48.718141  1994.967016  119.121439   61.394303   60.325337   \n",
       "std     28.414748    17.771374   25.030827   21.703963   15.051583   \n",
       "min      1.000000  1945.000000   62.000000    6.000000   18.000000   \n",
       "25%     24.000000  1980.000000  101.500000   45.000000   51.000000   \n",
       "50%     48.000000  1998.000000  120.000000   64.000000   62.000000   \n",
       "75%     72.000000  2010.000000  134.000000   79.000000   71.000000   \n",
       "max    105.000000  2019.000000  199.000000  100.000000   96.000000   \n",
       "\n",
       "               dB        live         val         dur       acous        spch   \n",
       "count  667.000000  667.000000  667.000000  667.000000  667.000000  667.000000  \\\n",
       "mean    -8.356822   18.188906   57.311844  224.002999   29.917541    6.179910   \n",
       "std      3.659509   14.380929   24.400412   59.742591   28.865081    6.191199   \n",
       "min    -24.000000    2.000000    6.000000   98.000000    0.000000    2.000000   \n",
       "25%    -11.000000    9.000000   39.000000  185.000000    6.000000    3.000000   \n",
       "50%     -8.000000   13.000000   58.000000  218.000000   19.000000    4.000000   \n",
       "75%     -6.000000   24.000000   78.000000  254.000000   52.000000    6.000000   \n",
       "max     -1.000000   93.000000   99.000000  511.000000  100.000000   47.000000   \n",
       "\n",
       "              pop  \n",
       "count  667.000000  \n",
       "mean    63.349325  \n",
       "std     13.725845  \n",
       "min     26.000000  \n",
       "25%     56.000000  \n",
       "50%     66.000000  \n",
       "75%     73.500000  \n",
       "max     94.000000  "
      ]
     },
<<<<<<< HEAD
     "execution_count": 9,
=======
     "execution_count": 26,
>>>>>>> 0e490c365e64630c7981f6cbd864aedbee0ddf54
     "metadata": {},
     "output_type": "execute_result"
    }
   ],
   "source": [
    "df.describe()"
   ]
  },
  {
   "cell_type": "code",
<<<<<<< HEAD
   "execution_count": 10,
=======
   "execution_count": 27,
>>>>>>> 0e490c365e64630c7981f6cbd864aedbee0ddf54
   "metadata": {},
   "outputs": [
    {
     "data": {
      "text/plain": [
       "Number       0\n",
       "title        0\n",
       "artist       0\n",
       "top genre    0\n",
       "year         0\n",
       "bpm          0\n",
       "nrgy         0\n",
       "dnce         0\n",
       "dB           0\n",
       "live         0\n",
       "val          0\n",
       "dur          0\n",
       "acous        0\n",
       "spch         0\n",
       "pop          0\n",
       "dtype: int64"
      ]
     },
<<<<<<< HEAD
     "execution_count": 10,
=======
     "execution_count": 27,
>>>>>>> 0e490c365e64630c7981f6cbd864aedbee0ddf54
     "metadata": {},
     "output_type": "execute_result"
    }
   ],
   "source": [
    "df['top genre'].fillna(\"undefined\", inplace=True)\n",
    "df.isnull().sum()"
   ]
  },
  {
   "cell_type": "code",
<<<<<<< HEAD
   "execution_count": 11,
=======
   "execution_count": 28,
>>>>>>> 0e490c365e64630c7981f6cbd864aedbee0ddf54
   "metadata": {},
   "outputs": [
    {
     "data": {
      "text/plain": [
       "'dance pop'"
      ]
     },
<<<<<<< HEAD
     "execution_count": 11,
=======
     "execution_count": 28,
>>>>>>> 0e490c365e64630c7981f6cbd864aedbee0ddf54
     "metadata": {},
     "output_type": "execute_result"
    }
   ],
   "source": [
    "top_genre_mode = df['top genre'].mode().iloc[0]\n",
    "top_genre_mode"
   ]
  },
  {
   "cell_type": "code",
<<<<<<< HEAD
   "execution_count": 12,
=======
   "execution_count": 29,
>>>>>>> 0e490c365e64630c7981f6cbd864aedbee0ddf54
   "metadata": {},
   "outputs": [
    {
     "data": {
      "text/plain": [
       "0"
      ]
     },
<<<<<<< HEAD
     "execution_count": 12,
=======
     "execution_count": 29,
>>>>>>> 0e490c365e64630c7981f6cbd864aedbee0ddf54
     "metadata": {},
     "output_type": "execute_result"
    }
   ],
   "source": [
    "# para ver si una columna esta duplicada\n",
    "df.duplicated().sum()\n"
   ]
  },
  {
   "cell_type": "code",
<<<<<<< HEAD
   "execution_count": 13,
=======
   "execution_count": 30,
>>>>>>> 0e490c365e64630c7981f6cbd864aedbee0ddf54
   "metadata": {},
   "outputs": [],
   "source": [
    "# borrar columnas\n",
    "df.drop('Number', axis=1, inplace=True)"
   ]
  },
  {
   "cell_type": "code",
<<<<<<< HEAD
   "execution_count": 14,
=======
   "execution_count": 31,
>>>>>>> 0e490c365e64630c7981f6cbd864aedbee0ddf54
   "metadata": {},
   "outputs": [
    {
     "data": {
      "text/html": [
       "<div>\n",
       "<style scoped>\n",
       "    .dataframe tbody tr th:only-of-type {\n",
       "        vertical-align: middle;\n",
       "    }\n",
       "\n",
       "    .dataframe tbody tr th {\n",
       "        vertical-align: top;\n",
       "    }\n",
       "\n",
       "    .dataframe thead th {\n",
       "        text-align: right;\n",
       "    }\n",
       "</style>\n",
       "<table border=\"1\" class=\"dataframe\">\n",
       "  <thead>\n",
       "    <tr style=\"text-align: right;\">\n",
       "      <th></th>\n",
       "      <th>title</th>\n",
       "      <th>artist</th>\n",
       "      <th>top genre</th>\n",
       "      <th>year</th>\n",
       "      <th>bpm</th>\n",
       "      <th>nrgy</th>\n",
       "      <th>dnce</th>\n",
       "      <th>dB</th>\n",
       "      <th>live</th>\n",
       "      <th>val</th>\n",
       "      <th>dur</th>\n",
       "      <th>acous</th>\n",
       "      <th>spch</th>\n",
       "      <th>pop</th>\n",
       "    </tr>\n",
       "  </thead>\n",
       "  <tbody>\n",
       "    <tr>\n",
       "      <th>0</th>\n",
       "      <td>Put Your Head On My Shoulder</td>\n",
       "      <td>Paul Anka</td>\n",
       "      <td>adult standards</td>\n",
       "      <td>2000</td>\n",
       "      <td>116</td>\n",
       "      <td>34</td>\n",
       "      <td>55</td>\n",
       "      <td>-9</td>\n",
       "      <td>10</td>\n",
       "      <td>47</td>\n",
       "      <td>155</td>\n",
       "      <td>75</td>\n",
       "      <td>3</td>\n",
       "      <td>72</td>\n",
       "    </tr>\n",
       "    <tr>\n",
       "      <th>1</th>\n",
       "      <td>Whatever Will Be Will Be (Que Sera Sera) (with...</td>\n",
       "      <td>Doris Day</td>\n",
       "      <td>adult standards</td>\n",
       "      <td>1948</td>\n",
       "      <td>177</td>\n",
       "      <td>34</td>\n",
       "      <td>42</td>\n",
       "      <td>-11</td>\n",
       "      <td>72</td>\n",
       "      <td>78</td>\n",
       "      <td>123</td>\n",
       "      <td>86</td>\n",
       "      <td>4</td>\n",
       "      <td>62</td>\n",
       "    </tr>\n",
       "    <tr>\n",
       "      <th>2</th>\n",
       "      <td>Everybody Loves Somebody</td>\n",
       "      <td>Dean Martin</td>\n",
       "      <td>adult standards</td>\n",
       "      <td>2013</td>\n",
       "      <td>81</td>\n",
       "      <td>49</td>\n",
       "      <td>26</td>\n",
       "      <td>-9</td>\n",
       "      <td>34</td>\n",
       "      <td>40</td>\n",
       "      <td>162</td>\n",
       "      <td>81</td>\n",
       "      <td>4</td>\n",
       "      <td>61</td>\n",
       "    </tr>\n",
       "    <tr>\n",
       "      <th>3</th>\n",
       "      <td>Take Good Care Of My Baby - 1990 Remastered</td>\n",
       "      <td>Bobby Vee</td>\n",
       "      <td>adult standards</td>\n",
       "      <td>2011</td>\n",
       "      <td>82</td>\n",
       "      <td>43</td>\n",
       "      <td>49</td>\n",
       "      <td>-12</td>\n",
       "      <td>12</td>\n",
       "      <td>66</td>\n",
       "      <td>151</td>\n",
       "      <td>70</td>\n",
       "      <td>6</td>\n",
       "      <td>60</td>\n",
       "    </tr>\n",
       "    <tr>\n",
       "      <th>4</th>\n",
       "      <td>A Teenager In Love</td>\n",
       "      <td>Dion &amp; The Belmonts</td>\n",
       "      <td>adult standards</td>\n",
       "      <td>1959</td>\n",
       "      <td>79</td>\n",
       "      <td>38</td>\n",
       "      <td>56</td>\n",
       "      <td>-9</td>\n",
       "      <td>13</td>\n",
       "      <td>62</td>\n",
       "      <td>158</td>\n",
       "      <td>67</td>\n",
       "      <td>3</td>\n",
       "      <td>60</td>\n",
       "    </tr>\n",
       "  </tbody>\n",
       "</table>\n",
       "</div>"
      ],
      "text/plain": [
       "                                               title               artist   \n",
       "0                       Put Your Head On My Shoulder            Paul Anka  \\\n",
       "1  Whatever Will Be Will Be (Que Sera Sera) (with...            Doris Day   \n",
       "2                           Everybody Loves Somebody          Dean Martin   \n",
       "3        Take Good Care Of My Baby - 1990 Remastered            Bobby Vee   \n",
       "4                                 A Teenager In Love  Dion & The Belmonts   \n",
       "\n",
       "         top genre  year  bpm  nrgy  dnce  dB  live  val  dur  acous  spch   \n",
       "0  adult standards  2000  116    34    55  -9    10   47  155     75     3  \\\n",
       "1  adult standards  1948  177    34    42 -11    72   78  123     86     4   \n",
       "2  adult standards  2013   81    49    26  -9    34   40  162     81     4   \n",
       "3  adult standards  2011   82    43    49 -12    12   66  151     70     6   \n",
       "4  adult standards  1959   79    38    56  -9    13   62  158     67     3   \n",
       "\n",
       "   pop  \n",
       "0   72  \n",
       "1   62  \n",
       "2   61  \n",
       "3   60  \n",
       "4   60  "
      ]
     },
<<<<<<< HEAD
     "execution_count": 14,
=======
     "execution_count": 31,
>>>>>>> 0e490c365e64630c7981f6cbd864aedbee0ddf54
     "metadata": {},
     "output_type": "execute_result"
    }
   ],
   "source": [
    "df.head()"
   ]
  },
  {
   "attachments": {},
   "cell_type": "markdown",
   "metadata": {},
   "source": [
    "## Ordenar por años"
   ]
  },
  {
   "cell_type": "code",
<<<<<<< HEAD
   "execution_count": 15,
=======
   "execution_count": 32,
>>>>>>> 0e490c365e64630c7981f6cbd864aedbee0ddf54
   "metadata": {},
   "outputs": [
    {
     "data": {
      "text/html": [
       "<div>\n",
       "<style scoped>\n",
       "    .dataframe tbody tr th:only-of-type {\n",
       "        vertical-align: middle;\n",
       "    }\n",
       "\n",
       "    .dataframe tbody tr th {\n",
       "        vertical-align: top;\n",
       "    }\n",
       "\n",
       "    .dataframe thead th {\n",
       "        text-align: right;\n",
       "    }\n",
       "</style>\n",
       "<table border=\"1\" class=\"dataframe\">\n",
       "  <thead>\n",
       "    <tr style=\"text-align: right;\">\n",
       "      <th></th>\n",
       "      <th>title</th>\n",
       "      <th>artist</th>\n",
       "      <th>top genre</th>\n",
       "      <th>year</th>\n",
       "      <th>bpm</th>\n",
       "      <th>nrgy</th>\n",
       "      <th>dnce</th>\n",
       "      <th>dB</th>\n",
       "      <th>live</th>\n",
       "      <th>val</th>\n",
       "      <th>dur</th>\n",
       "      <th>acous</th>\n",
       "      <th>spch</th>\n",
       "      <th>pop</th>\n",
       "    </tr>\n",
       "  </thead>\n",
       "  <tbody>\n",
       "    <tr>\n",
       "      <th>0</th>\n",
       "      <td>If I Give My Heart to You (with The Mellomen) ...</td>\n",
       "      <td>Doris Day</td>\n",
       "      <td>adult standards</td>\n",
       "      <td>1945</td>\n",
       "      <td>77</td>\n",
       "      <td>6</td>\n",
       "      <td>50</td>\n",
       "      <td>-16</td>\n",
       "      <td>10</td>\n",
       "      <td>33</td>\n",
       "      <td>169</td>\n",
       "      <td>97</td>\n",
       "      <td>5</td>\n",
       "      <td>52</td>\n",
       "    </tr>\n",
       "    <tr>\n",
       "      <th>1</th>\n",
       "      <td>Whatever Will Be Will Be (Que Sera Sera) (with...</td>\n",
       "      <td>Doris Day</td>\n",
       "      <td>adult standards</td>\n",
       "      <td>1948</td>\n",
       "      <td>177</td>\n",
       "      <td>34</td>\n",
       "      <td>42</td>\n",
       "      <td>-11</td>\n",
       "      <td>72</td>\n",
       "      <td>78</td>\n",
       "      <td>123</td>\n",
       "      <td>86</td>\n",
       "      <td>4</td>\n",
       "      <td>62</td>\n",
       "    </tr>\n",
       "    <tr>\n",
       "      <th>2</th>\n",
       "      <td>Held for Questioning</td>\n",
       "      <td>Rusty Draper</td>\n",
       "      <td>deep adult standards</td>\n",
       "      <td>1953</td>\n",
       "      <td>109</td>\n",
       "      <td>65</td>\n",
       "      <td>70</td>\n",
       "      <td>-2</td>\n",
       "      <td>14</td>\n",
       "      <td>85</td>\n",
       "      <td>146</td>\n",
       "      <td>79</td>\n",
       "      <td>3</td>\n",
       "      <td>26</td>\n",
       "    </tr>\n",
       "    <tr>\n",
       "      <th>3</th>\n",
       "      <td>Only Because</td>\n",
       "      <td>The Platters</td>\n",
       "      <td>adult standards</td>\n",
       "      <td>1957</td>\n",
       "      <td>73</td>\n",
       "      <td>28</td>\n",
       "      <td>55</td>\n",
       "      <td>-10</td>\n",
       "      <td>9</td>\n",
       "      <td>47</td>\n",
       "      <td>174</td>\n",
       "      <td>85</td>\n",
       "      <td>3</td>\n",
       "      <td>44</td>\n",
       "    </tr>\n",
       "    <tr>\n",
       "      <th>4</th>\n",
       "      <td>Chicago - Remastered</td>\n",
       "      <td>Frank Sinatra</td>\n",
       "      <td>adult standards</td>\n",
       "      <td>1958</td>\n",
       "      <td>148</td>\n",
       "      <td>46</td>\n",
       "      <td>51</td>\n",
       "      <td>-10</td>\n",
       "      <td>40</td>\n",
       "      <td>79</td>\n",
       "      <td>134</td>\n",
       "      <td>61</td>\n",
       "      <td>7</td>\n",
       "      <td>47</td>\n",
       "    </tr>\n",
       "  </tbody>\n",
       "</table>\n",
       "</div>"
      ],
      "text/plain": [
       "                                               title         artist   \n",
       "0  If I Give My Heart to You (with The Mellomen) ...      Doris Day  \\\n",
       "1  Whatever Will Be Will Be (Que Sera Sera) (with...      Doris Day   \n",
       "2                               Held for Questioning   Rusty Draper   \n",
       "3                                       Only Because   The Platters   \n",
       "4                               Chicago - Remastered  Frank Sinatra   \n",
       "\n",
       "              top genre  year  bpm  nrgy  dnce  dB  live  val  dur  acous   \n",
       "0       adult standards  1945   77     6    50 -16    10   33  169     97  \\\n",
       "1       adult standards  1948  177    34    42 -11    72   78  123     86   \n",
       "2  deep adult standards  1953  109    65    70  -2    14   85  146     79   \n",
       "3       adult standards  1957   73    28    55 -10     9   47  174     85   \n",
       "4       adult standards  1958  148    46    51 -10    40   79  134     61   \n",
       "\n",
       "   spch  pop  \n",
       "0     5   52  \n",
       "1     4   62  \n",
       "2     3   26  \n",
       "3     3   44  \n",
       "4     7   47  "
      ]
     },
<<<<<<< HEAD
     "execution_count": 15,
=======
     "execution_count": 32,
>>>>>>> 0e490c365e64630c7981f6cbd864aedbee0ddf54
     "metadata": {},
     "output_type": "execute_result"
    }
   ],
   "source": [
    "df.sort_values('year', inplace=True)\n",
    "df.reset_index(drop=True, inplace=True)# rehacer el índice\n",
    "df.head()"
   ]
  },
  {
   "cell_type": "code",
<<<<<<< HEAD
   "execution_count": 16,
=======
   "execution_count": 33,
>>>>>>> 0e490c365e64630c7981f6cbd864aedbee0ddf54
   "metadata": {},
   "outputs": [
    {
     "data": {
      "text/html": [
       "<div>\n",
       "<style scoped>\n",
       "    .dataframe tbody tr th:only-of-type {\n",
       "        vertical-align: middle;\n",
       "    }\n",
       "\n",
       "    .dataframe tbody tr th {\n",
       "        vertical-align: top;\n",
       "    }\n",
       "\n",
       "    .dataframe thead th {\n",
       "        text-align: right;\n",
       "    }\n",
       "</style>\n",
       "<table border=\"1\" class=\"dataframe\">\n",
       "  <thead>\n",
       "    <tr style=\"text-align: right;\">\n",
       "      <th></th>\n",
       "      <th>title</th>\n",
       "      <th>artist</th>\n",
       "      <th>top genre</th>\n",
       "      <th>year</th>\n",
       "      <th>bpm</th>\n",
       "      <th>nrgy</th>\n",
       "      <th>dnce</th>\n",
       "      <th>dB</th>\n",
       "      <th>live</th>\n",
       "      <th>val</th>\n",
       "      <th>dur</th>\n",
       "      <th>acous</th>\n",
       "      <th>spch</th>\n",
       "      <th>pop</th>\n",
       "    </tr>\n",
       "  </thead>\n",
       "  <tbody>\n",
       "    <tr>\n",
       "      <th>662</th>\n",
       "      <td>I Will Survive - Extended Version</td>\n",
       "      <td>Gloria Gaynor</td>\n",
       "      <td>disco</td>\n",
       "      <td>2019</td>\n",
       "      <td>116</td>\n",
       "      <td>85</td>\n",
       "      <td>76</td>\n",
       "      <td>-5</td>\n",
       "      <td>27</td>\n",
       "      <td>59</td>\n",
       "      <td>197</td>\n",
       "      <td>6</td>\n",
       "      <td>5</td>\n",
       "      <td>61</td>\n",
       "    </tr>\n",
       "    <tr>\n",
       "      <th>663</th>\n",
       "      <td>Sunflower - Spider-Man: Into the Spider-Verse</td>\n",
       "      <td>Post Malone</td>\n",
       "      <td>dfw rap</td>\n",
       "      <td>2019</td>\n",
       "      <td>90</td>\n",
       "      <td>52</td>\n",
       "      <td>76</td>\n",
       "      <td>-4</td>\n",
       "      <td>7</td>\n",
       "      <td>93</td>\n",
       "      <td>158</td>\n",
       "      <td>53</td>\n",
       "      <td>6</td>\n",
       "      <td>86</td>\n",
       "    </tr>\n",
       "    <tr>\n",
       "      <th>664</th>\n",
       "      <td>Last Christmas</td>\n",
       "      <td>Wham!</td>\n",
       "      <td>dance rock</td>\n",
       "      <td>2019</td>\n",
       "      <td>108</td>\n",
       "      <td>58</td>\n",
       "      <td>74</td>\n",
       "      <td>-9</td>\n",
       "      <td>18</td>\n",
       "      <td>94</td>\n",
       "      <td>265</td>\n",
       "      <td>19</td>\n",
       "      <td>3</td>\n",
       "      <td>78</td>\n",
       "    </tr>\n",
       "    <tr>\n",
       "      <th>665</th>\n",
       "      <td>When You Love Someone</td>\n",
       "      <td>James TW</td>\n",
       "      <td>neo mellow</td>\n",
       "      <td>2019</td>\n",
       "      <td>126</td>\n",
       "      <td>45</td>\n",
       "      <td>68</td>\n",
       "      <td>-6</td>\n",
       "      <td>5</td>\n",
       "      <td>35</td>\n",
       "      <td>217</td>\n",
       "      <td>26</td>\n",
       "      <td>3</td>\n",
       "      <td>76</td>\n",
       "    </tr>\n",
       "    <tr>\n",
       "      <th>666</th>\n",
       "      <td>Impossible - Main</td>\n",
       "      <td>Shontelle</td>\n",
       "      <td>barbadian pop</td>\n",
       "      <td>2019</td>\n",
       "      <td>90</td>\n",
       "      <td>57</td>\n",
       "      <td>59</td>\n",
       "      <td>-5</td>\n",
       "      <td>11</td>\n",
       "      <td>51</td>\n",
       "      <td>226</td>\n",
       "      <td>44</td>\n",
       "      <td>4</td>\n",
       "      <td>32</td>\n",
       "    </tr>\n",
       "  </tbody>\n",
       "</table>\n",
       "</div>"
      ],
      "text/plain": [
       "                                             title         artist   \n",
       "662              I Will Survive - Extended Version  Gloria Gaynor  \\\n",
       "663  Sunflower - Spider-Man: Into the Spider-Verse    Post Malone   \n",
       "664                                 Last Christmas          Wham!   \n",
       "665                          When You Love Someone       James TW   \n",
       "666                              Impossible - Main      Shontelle   \n",
       "\n",
       "         top genre  year  bpm  nrgy  dnce  dB  live  val  dur  acous  spch   \n",
       "662          disco  2019  116    85    76  -5    27   59  197      6     5  \\\n",
       "663        dfw rap  2019   90    52    76  -4     7   93  158     53     6   \n",
       "664     dance rock  2019  108    58    74  -9    18   94  265     19     3   \n",
       "665     neo mellow  2019  126    45    68  -6     5   35  217     26     3   \n",
       "666  barbadian pop  2019   90    57    59  -5    11   51  226     44     4   \n",
       "\n",
       "     pop  \n",
       "662   61  \n",
       "663   86  \n",
       "664   78  \n",
       "665   76  \n",
       "666   32  "
      ]
     },
<<<<<<< HEAD
     "execution_count": 16,
=======
     "execution_count": 33,
>>>>>>> 0e490c365e64630c7981f6cbd864aedbee0ddf54
     "metadata": {},
     "output_type": "execute_result"
    }
   ],
   "source": [
    "df.tail()"
   ]
  },
  {
   "attachments": {},
   "cell_type": "markdown",
   "metadata": {},
   "source": [
    "## Visualización"
   ]
  },
  {
   "cell_type": "code",
<<<<<<< HEAD
   "execution_count": 17,
   "metadata": {},
   "outputs": [
    {
     "data": {
      "text/plain": [
       "<Axes: >"
      ]
     },
     "execution_count": 17,
     "metadata": {},
     "output_type": "execute_result"
    },
    {
     "data": {
      "image/png": "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",
      "text/plain": [
       "<Figure size 640x480 with 1 Axes>"
      ]
     },
     "metadata": {},
     "output_type": "display_data"
    }
   ],
   "source": [
    "df['nrgy'].plot()"
   ]
  },
  {
   "cell_type": "code",
   "execution_count": 18,
=======
   "execution_count": null,
>>>>>>> 0e490c365e64630c7981f6cbd864aedbee0ddf54
   "metadata": {},
   "outputs": [
    {
     "data": {
      "text/plain": [
       "<Axes: >"
      ]
     },
     "execution_count": 18,
     "metadata": {},
     "output_type": "execute_result"
    },
    {
     "data": {
      "image/png": "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",
      "text/plain": [
       "<Figure size 640x480 with 1 Axes>"
      ]
     },
     "metadata": {},
     "output_type": "display_data"
    }
   ],
   "source": [
    "df['year'].hist()"
   ]
  },
  {
   "attachments": {},
   "cell_type": "markdown",
   "metadata": {},
   "source": [
    "## Mostrar géneros y artistas mas repetidos"
   ]
  },
  {
   "cell_type": "code",
<<<<<<< HEAD
   "execution_count": 19,
=======
   "execution_count": 37,
>>>>>>> 0e490c365e64630c7981f6cbd864aedbee0ddf54
   "metadata": {},
   "outputs": [
    {
     "data": {
      "text/plain": [
       "0    dance pop\n",
       "Name: top genre, dtype: object"
      ]
     },
<<<<<<< HEAD
     "execution_count": 19,
=======
     "execution_count": 37,
>>>>>>> 0e490c365e64630c7981f6cbd864aedbee0ddf54
     "metadata": {},
     "output_type": "execute_result"
    }
   ],
   "source": [
    "df['top genre'].mode()"
   ]
  },
  {
   "cell_type": "code",
<<<<<<< HEAD
   "execution_count": 20,
=======
   "execution_count": null,
>>>>>>> 0e490c365e64630c7981f6cbd864aedbee0ddf54
   "metadata": {},
   "outputs": [
    {
     "data": {
      "text/html": [
       "<div>\n",
       "<style scoped>\n",
       "    .dataframe tbody tr th:only-of-type {\n",
       "        vertical-align: middle;\n",
       "    }\n",
       "\n",
       "    .dataframe tbody tr th {\n",
       "        vertical-align: top;\n",
       "    }\n",
       "\n",
       "    .dataframe thead th {\n",
       "        text-align: right;\n",
       "    }\n",
       "</style>\n",
       "<table border=\"1\" class=\"dataframe\">\n",
       "  <thead>\n",
       "    <tr style=\"text-align: right;\">\n",
       "      <th></th>\n",
       "      <th>count</th>\n",
       "    </tr>\n",
       "    <tr>\n",
       "      <th>top genre</th>\n",
       "      <th></th>\n",
       "    </tr>\n",
       "  </thead>\n",
       "  <tbody>\n",
       "    <tr>\n",
       "      <th>dance pop</th>\n",
       "      <td>114</td>\n",
       "    </tr>\n",
       "    <tr>\n",
       "      <th>adult standards</th>\n",
       "      <td>93</td>\n",
       "    </tr>\n",
       "    <tr>\n",
       "      <th>album rock</th>\n",
       "      <td>77</td>\n",
       "    </tr>\n",
       "    <tr>\n",
       "      <th>glam rock</th>\n",
       "      <td>23</td>\n",
       "    </tr>\n",
       "    <tr>\n",
       "      <th>brill building pop</th>\n",
       "      <td>20</td>\n",
       "    </tr>\n",
       "    <tr>\n",
       "      <th>europop</th>\n",
       "      <td>17</td>\n",
       "    </tr>\n",
       "    <tr>\n",
       "      <th>undefined</th>\n",
       "      <td>16</td>\n",
       "    </tr>\n",
       "    <tr>\n",
       "      <th>boy band</th>\n",
       "      <td>15</td>\n",
       "    </tr>\n",
       "    <tr>\n",
       "      <th>dance rock</th>\n",
       "      <td>15</td>\n",
       "    </tr>\n",
       "    <tr>\n",
       "      <th>bubblegum dance</th>\n",
       "      <td>13</td>\n",
       "    </tr>\n",
       "  </tbody>\n",
       "</table>\n",
       "</div>"
      ],
      "text/plain": [
       "                    count\n",
       "top genre                \n",
       "dance pop             114\n",
       "adult standards        93\n",
       "album rock             77\n",
       "glam rock              23\n",
       "brill building pop     20\n",
       "europop                17\n",
       "undefined              16\n",
       "boy band               15\n",
       "dance rock             15\n",
       "bubblegum dance        13"
      ]
     },
     "execution_count": 20,
     "metadata": {},
     "output_type": "execute_result"
    }
   ],
   "source": [
    "serie = df['top genre'].value_counts()\n",
    "pd.DataFrame(serie).head(10)"
   ]
  },
  {
   "cell_type": "code",
<<<<<<< HEAD
   "execution_count": 21,
=======
   "execution_count": null,
>>>>>>> 0e490c365e64630c7981f6cbd864aedbee0ddf54
   "metadata": {},
   "outputs": [
    {
     "data": {
      "text/html": [
       "<div>\n",
       "<style scoped>\n",
       "    .dataframe tbody tr th:only-of-type {\n",
       "        vertical-align: middle;\n",
       "    }\n",
       "\n",
       "    .dataframe tbody tr th {\n",
       "        vertical-align: top;\n",
       "    }\n",
       "\n",
       "    .dataframe thead th {\n",
       "        text-align: right;\n",
       "    }\n",
       "</style>\n",
       "<table border=\"1\" class=\"dataframe\">\n",
       "  <thead>\n",
       "    <tr style=\"text-align: right;\">\n",
       "      <th></th>\n",
       "      <th>count</th>\n",
       "    </tr>\n",
       "    <tr>\n",
       "      <th>artist</th>\n",
       "      <th></th>\n",
       "    </tr>\n",
       "  </thead>\n",
       "  <tbody>\n",
       "    <tr>\n",
       "      <th>Elton John</th>\n",
       "      <td>12</td>\n",
       "    </tr>\n",
       "    <tr>\n",
       "      <th>Queen</th>\n",
       "      <td>11</td>\n",
       "    </tr>\n",
       "    <tr>\n",
       "      <th>ABBA</th>\n",
       "      <td>9</td>\n",
       "    </tr>\n",
       "    <tr>\n",
       "      <th>The Beatles</th>\n",
       "      <td>7</td>\n",
       "    </tr>\n",
       "    <tr>\n",
       "      <th>Barbra Streisand</th>\n",
       "      <td>6</td>\n",
       "    </tr>\n",
       "    <tr>\n",
       "      <th>Whitney Houston</th>\n",
       "      <td>6</td>\n",
       "    </tr>\n",
       "    <tr>\n",
       "      <th>Rihanna</th>\n",
       "      <td>6</td>\n",
       "    </tr>\n",
       "    <tr>\n",
       "      <th>Taylor Swift</th>\n",
       "      <td>5</td>\n",
       "    </tr>\n",
       "    <tr>\n",
       "      <th>Post Malone</th>\n",
       "      <td>5</td>\n",
       "    </tr>\n",
       "    <tr>\n",
       "      <th>Mariah Carey</th>\n",
       "      <td>5</td>\n",
       "    </tr>\n",
       "  </tbody>\n",
       "</table>\n",
       "</div>"
      ],
      "text/plain": [
       "                  count\n",
       "artist                 \n",
       "Elton John           12\n",
       "Queen                11\n",
       "ABBA                  9\n",
       "The Beatles           7\n",
       "Barbra Streisand      6\n",
       "Whitney Houston       6\n",
       "Rihanna               6\n",
       "Taylor Swift          5\n",
       "Post Malone           5\n",
       "Mariah Carey          5"
      ]
     },
     "execution_count": 21,
     "metadata": {},
     "output_type": "execute_result"
    }
   ],
   "source": [
    "serie = df['artist'].value_counts()\n",
    "pd.DataFrame(serie).head(10)"
   ]
  },
  {
   "attachments": {},
   "cell_type": "markdown",
   "metadata": {},
   "source": [
    "## Mostrar la canción más popupar y la menos popular\n",
    "\n",
    "Columna pop"
   ]
  },
  {
   "cell_type": "code",
<<<<<<< HEAD
   "execution_count": 22,
=======
   "execution_count": null,
>>>>>>> 0e490c365e64630c7981f6cbd864aedbee0ddf54
   "metadata": {},
   "outputs": [
    {
     "data": {
      "text/plain": [
       "94"
      ]
     },
     "execution_count": 22,
     "metadata": {},
     "output_type": "execute_result"
    }
   ],
   "source": [
    "df['pop'].max()"
   ]
  },
  {
   "cell_type": "code",
<<<<<<< HEAD
   "execution_count": 23,
=======
   "execution_count": null,
>>>>>>> 0e490c365e64630c7981f6cbd864aedbee0ddf54
   "metadata": {},
   "outputs": [
    {
     "data": {
      "text/plain": [
       "652"
      ]
     },
     "execution_count": 23,
     "metadata": {},
     "output_type": "execute_result"
    }
   ],
   "source": [
    "df['pop'].idxmax()"
   ]
  },
  {
   "cell_type": "code",
<<<<<<< HEAD
   "execution_count": 24,
=======
   "execution_count": null,
>>>>>>> 0e490c365e64630c7981f6cbd864aedbee0ddf54
   "metadata": {},
   "outputs": [
    {
     "data": {
      "text/plain": [
       "title              bad guy\n",
       "artist       Billie Eilish\n",
       "top genre       electropop\n",
       "year                  2019\n",
       "bpm                    135\n",
       "nrgy                    43\n",
       "dnce                    70\n",
       "dB                     -11\n",
       "live                    10\n",
       "val                     56\n",
       "dur                    194\n",
       "acous                   33\n",
       "spch                    38\n",
       "pop                     94\n",
       "Name: 652, dtype: object"
      ]
     },
     "execution_count": 24,
     "metadata": {},
     "output_type": "execute_result"
    }
   ],
   "source": [
    "df.loc[df['pop'].idxmax()]"
   ]
  },
  {
   "cell_type": "code",
<<<<<<< HEAD
   "execution_count": 25,
=======
   "execution_count": null,
>>>>>>> 0e490c365e64630c7981f6cbd864aedbee0ddf54
   "metadata": {},
   "outputs": [
    {
     "data": {
      "text/html": [
       "<div>\n",
       "<style scoped>\n",
       "    .dataframe tbody tr th:only-of-type {\n",
       "        vertical-align: middle;\n",
       "    }\n",
       "\n",
       "    .dataframe tbody tr th {\n",
       "        vertical-align: top;\n",
       "    }\n",
       "\n",
       "    .dataframe thead th {\n",
       "        text-align: right;\n",
       "    }\n",
       "</style>\n",
       "<table border=\"1\" class=\"dataframe\">\n",
       "  <thead>\n",
       "    <tr style=\"text-align: right;\">\n",
       "      <th></th>\n",
       "      <th>2</th>\n",
       "    </tr>\n",
       "  </thead>\n",
       "  <tbody>\n",
       "    <tr>\n",
       "      <th>title</th>\n",
       "      <td>Held for Questioning</td>\n",
       "    </tr>\n",
       "    <tr>\n",
       "      <th>artist</th>\n",
       "      <td>Rusty Draper</td>\n",
       "    </tr>\n",
       "    <tr>\n",
       "      <th>top genre</th>\n",
       "      <td>deep adult standards</td>\n",
       "    </tr>\n",
       "    <tr>\n",
       "      <th>year</th>\n",
       "      <td>1953</td>\n",
       "    </tr>\n",
       "    <tr>\n",
       "      <th>bpm</th>\n",
       "      <td>109</td>\n",
       "    </tr>\n",
       "    <tr>\n",
       "      <th>nrgy</th>\n",
       "      <td>65</td>\n",
       "    </tr>\n",
       "    <tr>\n",
       "      <th>dnce</th>\n",
       "      <td>70</td>\n",
       "    </tr>\n",
       "    <tr>\n",
       "      <th>dB</th>\n",
       "      <td>-2</td>\n",
       "    </tr>\n",
       "    <tr>\n",
       "      <th>live</th>\n",
       "      <td>14</td>\n",
       "    </tr>\n",
       "    <tr>\n",
       "      <th>val</th>\n",
       "      <td>85</td>\n",
       "    </tr>\n",
       "    <tr>\n",
       "      <th>dur</th>\n",
       "      <td>146</td>\n",
       "    </tr>\n",
       "    <tr>\n",
       "      <th>acous</th>\n",
       "      <td>79</td>\n",
       "    </tr>\n",
       "    <tr>\n",
       "      <th>spch</th>\n",
       "      <td>3</td>\n",
       "    </tr>\n",
       "    <tr>\n",
       "      <th>pop</th>\n",
       "      <td>26</td>\n",
       "    </tr>\n",
       "  </tbody>\n",
       "</table>\n",
       "</div>"
      ],
      "text/plain": [
       "                              2\n",
       "title      Held for Questioning\n",
       "artist             Rusty Draper\n",
       "top genre  deep adult standards\n",
       "year                       1953\n",
       "bpm                         109\n",
       "nrgy                         65\n",
       "dnce                         70\n",
       "dB                           -2\n",
       "live                         14\n",
       "val                          85\n",
       "dur                         146\n",
       "acous                        79\n",
       "spch                          3\n",
       "pop                          26"
      ]
     },
     "execution_count": 25,
     "metadata": {},
     "output_type": "execute_result"
    }
   ],
   "source": [
    "pd.DataFrame(df.loc[df['pop'].idxmin()]) #se mete en un df para visualizarlo mejor"
   ]
  },
  {
   "attachments": {},
   "cell_type": "markdown",
   "metadata": {},
   "source": [
    "## Mostrar mejor canción del año"
   ]
  },
  {
   "cell_type": "code",
<<<<<<< HEAD
   "execution_count": 26,
=======
   "execution_count": null,
>>>>>>> 0e490c365e64630c7981f6cbd864aedbee0ddf54
   "metadata": {},
   "outputs": [
    {
     "data": {
      "text/plain": [
       "year\n",
       "2017    42\n",
       "2008    30\n",
       "2016    24\n",
       "2010    19\n",
       "2009    18\n",
       "        ..\n",
       "1948     1\n",
       "1960     1\n",
       "1957     1\n",
       "1953     1\n",
       "1945     1\n",
       "Name: count, Length: 66, dtype: int64"
      ]
     },
     "execution_count": 26,
     "metadata": {},
     "output_type": "execute_result"
    }
   ],
   "source": [
    "df['year'].value_counts()"
   ]
  },
  {
   "cell_type": "code",
<<<<<<< HEAD
   "execution_count": 27,
=======
   "execution_count": null,
>>>>>>> 0e490c365e64630c7981f6cbd864aedbee0ddf54
   "metadata": {},
   "outputs": [
    {
     "data": {
      "text/plain": [
       "year\n",
       "1945      0\n",
       "1948      1\n",
       "1953      2\n",
       "1957      3\n",
       "1958      4\n",
       "       ... \n",
       "2015    557\n",
       "2016    589\n",
       "2017    619\n",
       "2018    644\n",
       "2019    652\n",
       "Name: pop, Length: 66, dtype: int64"
      ]
     },
     "execution_count": 27,
     "metadata": {},
     "output_type": "execute_result"
    }
   ],
   "source": [
    "df.groupby('year')['pop'].idxmax()"
   ]
  },
  {
   "cell_type": "code",
<<<<<<< HEAD
   "execution_count": 28,
=======
   "execution_count": null,
>>>>>>> 0e490c365e64630c7981f6cbd864aedbee0ddf54
   "metadata": {},
   "outputs": [
    {
     "data": {
      "text/html": [
       "<div>\n",
       "<style scoped>\n",
       "    .dataframe tbody tr th:only-of-type {\n",
       "        vertical-align: middle;\n",
       "    }\n",
       "\n",
       "    .dataframe tbody tr th {\n",
       "        vertical-align: top;\n",
       "    }\n",
       "\n",
       "    .dataframe thead th {\n",
       "        text-align: right;\n",
       "    }\n",
       "</style>\n",
       "<table border=\"1\" class=\"dataframe\">\n",
       "  <thead>\n",
       "    <tr style=\"text-align: right;\">\n",
       "      <th></th>\n",
       "      <th>title</th>\n",
       "      <th>artist</th>\n",
       "      <th>top genre</th>\n",
       "      <th>year</th>\n",
       "      <th>bpm</th>\n",
       "      <th>nrgy</th>\n",
       "      <th>dnce</th>\n",
       "      <th>dB</th>\n",
       "      <th>live</th>\n",
       "      <th>val</th>\n",
       "      <th>dur</th>\n",
       "      <th>acous</th>\n",
       "      <th>spch</th>\n",
       "      <th>pop</th>\n",
       "    </tr>\n",
       "  </thead>\n",
       "  <tbody>\n",
       "    <tr>\n",
       "      <th>0</th>\n",
       "      <td>If I Give My Heart to You (with The Mellomen) ...</td>\n",
       "      <td>Doris Day</td>\n",
       "      <td>adult standards</td>\n",
       "      <td>1945</td>\n",
       "      <td>77</td>\n",
       "      <td>6</td>\n",
       "      <td>50</td>\n",
       "      <td>-16</td>\n",
       "      <td>10</td>\n",
       "      <td>33</td>\n",
       "      <td>169</td>\n",
       "      <td>97</td>\n",
       "      <td>5</td>\n",
       "      <td>52</td>\n",
       "    </tr>\n",
       "    <tr>\n",
       "      <th>1</th>\n",
       "      <td>Whatever Will Be Will Be (Que Sera Sera) (with...</td>\n",
       "      <td>Doris Day</td>\n",
       "      <td>adult standards</td>\n",
       "      <td>1948</td>\n",
       "      <td>177</td>\n",
       "      <td>34</td>\n",
       "      <td>42</td>\n",
       "      <td>-11</td>\n",
       "      <td>72</td>\n",
       "      <td>78</td>\n",
       "      <td>123</td>\n",
       "      <td>86</td>\n",
       "      <td>4</td>\n",
       "      <td>62</td>\n",
       "    </tr>\n",
       "    <tr>\n",
       "      <th>2</th>\n",
       "      <td>Held for Questioning</td>\n",
       "      <td>Rusty Draper</td>\n",
       "      <td>deep adult standards</td>\n",
       "      <td>1953</td>\n",
       "      <td>109</td>\n",
       "      <td>65</td>\n",
       "      <td>70</td>\n",
       "      <td>-2</td>\n",
       "      <td>14</td>\n",
       "      <td>85</td>\n",
       "      <td>146</td>\n",
       "      <td>79</td>\n",
       "      <td>3</td>\n",
       "      <td>26</td>\n",
       "    </tr>\n",
       "    <tr>\n",
       "      <th>3</th>\n",
       "      <td>Only Because</td>\n",
       "      <td>The Platters</td>\n",
       "      <td>adult standards</td>\n",
       "      <td>1957</td>\n",
       "      <td>73</td>\n",
       "      <td>28</td>\n",
       "      <td>55</td>\n",
       "      <td>-10</td>\n",
       "      <td>9</td>\n",
       "      <td>47</td>\n",
       "      <td>174</td>\n",
       "      <td>85</td>\n",
       "      <td>3</td>\n",
       "      <td>44</td>\n",
       "    </tr>\n",
       "    <tr>\n",
       "      <th>4</th>\n",
       "      <td>Chicago - Remastered</td>\n",
       "      <td>Frank Sinatra</td>\n",
       "      <td>adult standards</td>\n",
       "      <td>1958</td>\n",
       "      <td>148</td>\n",
       "      <td>46</td>\n",
       "      <td>51</td>\n",
       "      <td>-10</td>\n",
       "      <td>40</td>\n",
       "      <td>79</td>\n",
       "      <td>134</td>\n",
       "      <td>61</td>\n",
       "      <td>7</td>\n",
       "      <td>47</td>\n",
       "    </tr>\n",
       "    <tr>\n",
       "      <th>...</th>\n",
       "      <td>...</td>\n",
       "      <td>...</td>\n",
       "      <td>...</td>\n",
       "      <td>...</td>\n",
       "      <td>...</td>\n",
       "      <td>...</td>\n",
       "      <td>...</td>\n",
       "      <td>...</td>\n",
       "      <td>...</td>\n",
       "      <td>...</td>\n",
       "      <td>...</td>\n",
       "      <td>...</td>\n",
       "      <td>...</td>\n",
       "      <td>...</td>\n",
       "    </tr>\n",
       "    <tr>\n",
       "      <th>557</th>\n",
       "      <td>The Hills</td>\n",
       "      <td>The Weeknd</td>\n",
       "      <td>canadian contemporary r&amp;b</td>\n",
       "      <td>2015</td>\n",
       "      <td>113</td>\n",
       "      <td>56</td>\n",
       "      <td>58</td>\n",
       "      <td>-7</td>\n",
       "      <td>14</td>\n",
       "      <td>14</td>\n",
       "      <td>242</td>\n",
       "      <td>7</td>\n",
       "      <td>5</td>\n",
       "      <td>83</td>\n",
       "    </tr>\n",
       "    <tr>\n",
       "      <th>589</th>\n",
       "      <td>I Fall Apart</td>\n",
       "      <td>Post Malone</td>\n",
       "      <td>dfw rap</td>\n",
       "      <td>2016</td>\n",
       "      <td>144</td>\n",
       "      <td>54</td>\n",
       "      <td>56</td>\n",
       "      <td>-5</td>\n",
       "      <td>20</td>\n",
       "      <td>29</td>\n",
       "      <td>223</td>\n",
       "      <td>7</td>\n",
       "      <td>4</td>\n",
       "      <td>84</td>\n",
       "    </tr>\n",
       "    <tr>\n",
       "      <th>619</th>\n",
       "      <td>Thunder</td>\n",
       "      <td>Imagine Dragons</td>\n",
       "      <td>modern rock</td>\n",
       "      <td>2017</td>\n",
       "      <td>168</td>\n",
       "      <td>82</td>\n",
       "      <td>61</td>\n",
       "      <td>-5</td>\n",
       "      <td>15</td>\n",
       "      <td>29</td>\n",
       "      <td>187</td>\n",
       "      <td>1</td>\n",
       "      <td>4</td>\n",
       "      <td>85</td>\n",
       "    </tr>\n",
       "    <tr>\n",
       "      <th>644</th>\n",
       "      <td>rockstar (feat. 21 Savage)</td>\n",
       "      <td>Post Malone</td>\n",
       "      <td>dfw rap</td>\n",
       "      <td>2018</td>\n",
       "      <td>160</td>\n",
       "      <td>52</td>\n",
       "      <td>59</td>\n",
       "      <td>-6</td>\n",
       "      <td>13</td>\n",
       "      <td>13</td>\n",
       "      <td>218</td>\n",
       "      <td>12</td>\n",
       "      <td>7</td>\n",
       "      <td>88</td>\n",
       "    </tr>\n",
       "    <tr>\n",
       "      <th>652</th>\n",
       "      <td>bad guy</td>\n",
       "      <td>Billie Eilish</td>\n",
       "      <td>electropop</td>\n",
       "      <td>2019</td>\n",
       "      <td>135</td>\n",
       "      <td>43</td>\n",
       "      <td>70</td>\n",
       "      <td>-11</td>\n",
       "      <td>10</td>\n",
       "      <td>56</td>\n",
       "      <td>194</td>\n",
       "      <td>33</td>\n",
       "      <td>38</td>\n",
       "      <td>94</td>\n",
       "    </tr>\n",
       "  </tbody>\n",
       "</table>\n",
       "<p>66 rows × 14 columns</p>\n",
       "</div>"
      ],
      "text/plain": [
       "                                                 title           artist   \n",
       "0    If I Give My Heart to You (with The Mellomen) ...        Doris Day  \\\n",
       "1    Whatever Will Be Will Be (Que Sera Sera) (with...        Doris Day   \n",
       "2                                 Held for Questioning     Rusty Draper   \n",
       "3                                         Only Because     The Platters   \n",
       "4                                 Chicago - Remastered    Frank Sinatra   \n",
       "..                                                 ...              ...   \n",
       "557                                          The Hills       The Weeknd   \n",
       "589                                       I Fall Apart      Post Malone   \n",
       "619                                            Thunder  Imagine Dragons   \n",
       "644                         rockstar (feat. 21 Savage)      Post Malone   \n",
       "652                                            bad guy    Billie Eilish   \n",
       "\n",
       "                     top genre  year  bpm  nrgy  dnce  dB  live  val  dur   \n",
       "0              adult standards  1945   77     6    50 -16    10   33  169  \\\n",
       "1              adult standards  1948  177    34    42 -11    72   78  123   \n",
       "2         deep adult standards  1953  109    65    70  -2    14   85  146   \n",
       "3              adult standards  1957   73    28    55 -10     9   47  174   \n",
       "4              adult standards  1958  148    46    51 -10    40   79  134   \n",
       "..                         ...   ...  ...   ...   ...  ..   ...  ...  ...   \n",
       "557  canadian contemporary r&b  2015  113    56    58  -7    14   14  242   \n",
       "589                    dfw rap  2016  144    54    56  -5    20   29  223   \n",
       "619                modern rock  2017  168    82    61  -5    15   29  187   \n",
       "644                    dfw rap  2018  160    52    59  -6    13   13  218   \n",
       "652                 electropop  2019  135    43    70 -11    10   56  194   \n",
       "\n",
       "     acous  spch  pop  \n",
       "0       97     5   52  \n",
       "1       86     4   62  \n",
       "2       79     3   26  \n",
       "3       85     3   44  \n",
       "4       61     7   47  \n",
       "..     ...   ...  ...  \n",
       "557      7     5   83  \n",
       "589      7     4   84  \n",
       "619      1     4   85  \n",
       "644     12     7   88  \n",
       "652     33    38   94  \n",
       "\n",
       "[66 rows x 14 columns]"
      ]
     },
     "execution_count": 28,
     "metadata": {},
     "output_type": "execute_result"
    }
   ],
   "source": [
    "df.loc[df.groupby('year')['pop'].idxmax()]"
   ]
  },
  {
   "attachments": {},
   "cell_type": "markdown",
   "metadata": {},
   "source": [
    "## Mostrat la cación más popular por década"
   ]
  },
  {
   "cell_type": "code",
<<<<<<< HEAD
   "execution_count": 29,
=======
   "execution_count": null,
>>>>>>> 0e490c365e64630c7981f6cbd864aedbee0ddf54
   "metadata": {},
   "outputs": [],
   "source": [
    "# Crear columna década"
   ]
  },
  {
   "cell_type": "code",
<<<<<<< HEAD
   "execution_count": 30,
=======
   "execution_count": null,
>>>>>>> 0e490c365e64630c7981f6cbd864aedbee0ddf54
   "metadata": {},
   "outputs": [
    {
     "data": {
      "text/plain": [
       "0      194.5\n",
       "1      194.8\n",
       "2      195.3\n",
       "3      195.7\n",
       "4      195.8\n",
       "       ...  \n",
       "662    201.9\n",
       "663    201.9\n",
       "664    201.9\n",
       "665    201.9\n",
       "666    201.9\n",
       "Name: year, Length: 667, dtype: float64"
      ]
     },
     "execution_count": 30,
     "metadata": {},
     "output_type": "execute_result"
    }
   ],
   "source": [
    "df['year'] / 10"
   ]
  },
  {
   "cell_type": "code",
<<<<<<< HEAD
   "execution_count": 31,
=======
   "execution_count": null,
>>>>>>> 0e490c365e64630c7981f6cbd864aedbee0ddf54
   "metadata": {},
   "outputs": [
    {
     "data": {
      "text/plain": [
       "0      194\n",
       "1      194\n",
       "2      195\n",
       "3      195\n",
       "4      195\n",
       "      ... \n",
       "662    201\n",
       "663    201\n",
       "664    201\n",
       "665    201\n",
       "666    201\n",
       "Name: year, Length: 667, dtype: int64"
      ]
     },
     "execution_count": 31,
     "metadata": {},
     "output_type": "execute_result"
    }
   ],
   "source": [
    "df['year'] // 10"
   ]
  },
  {
   "cell_type": "code",
<<<<<<< HEAD
   "execution_count": 32,
=======
   "execution_count": null,
>>>>>>> 0e490c365e64630c7981f6cbd864aedbee0ddf54
   "metadata": {},
   "outputs": [
    {
     "data": {
      "text/plain": [
       "0      1940\n",
       "1      1940\n",
       "2      1950\n",
       "3      1950\n",
       "4      1950\n",
       "       ... \n",
       "662    2010\n",
       "663    2010\n",
       "664    2010\n",
       "665    2010\n",
       "666    2010\n",
       "Name: year, Length: 667, dtype: int64"
      ]
     },
     "execution_count": 32,
     "metadata": {},
     "output_type": "execute_result"
    }
   ],
   "source": [
    "df['year'] // 10 * 10"
   ]
  },
  {
   "cell_type": "code",
<<<<<<< HEAD
   "execution_count": 33,
=======
   "execution_count": null,
>>>>>>> 0e490c365e64630c7981f6cbd864aedbee0ddf54
   "metadata": {},
   "outputs": [
    {
     "data": {
      "text/html": [
       "<div>\n",
       "<style scoped>\n",
       "    .dataframe tbody tr th:only-of-type {\n",
       "        vertical-align: middle;\n",
       "    }\n",
       "\n",
       "    .dataframe tbody tr th {\n",
       "        vertical-align: top;\n",
       "    }\n",
       "\n",
       "    .dataframe thead th {\n",
       "        text-align: right;\n",
       "    }\n",
       "</style>\n",
       "<table border=\"1\" class=\"dataframe\">\n",
       "  <thead>\n",
       "    <tr style=\"text-align: right;\">\n",
       "      <th></th>\n",
       "      <th>title</th>\n",
       "      <th>artist</th>\n",
       "      <th>top genre</th>\n",
       "      <th>year</th>\n",
       "      <th>bpm</th>\n",
       "      <th>nrgy</th>\n",
       "      <th>dnce</th>\n",
       "      <th>dB</th>\n",
       "      <th>live</th>\n",
       "      <th>val</th>\n",
       "      <th>dur</th>\n",
       "      <th>acous</th>\n",
       "      <th>spch</th>\n",
       "      <th>pop</th>\n",
       "      <th>decade</th>\n",
       "    </tr>\n",
       "  </thead>\n",
       "  <tbody>\n",
       "    <tr>\n",
       "      <th>0</th>\n",
       "      <td>If I Give My Heart to You (with The Mellomen) ...</td>\n",
       "      <td>Doris Day</td>\n",
       "      <td>adult standards</td>\n",
       "      <td>1945</td>\n",
       "      <td>77</td>\n",
       "      <td>6</td>\n",
       "      <td>50</td>\n",
       "      <td>-16</td>\n",
       "      <td>10</td>\n",
       "      <td>33</td>\n",
       "      <td>169</td>\n",
       "      <td>97</td>\n",
       "      <td>5</td>\n",
       "      <td>52</td>\n",
       "      <td>1940</td>\n",
       "    </tr>\n",
       "    <tr>\n",
       "      <th>1</th>\n",
       "      <td>Whatever Will Be Will Be (Que Sera Sera) (with...</td>\n",
       "      <td>Doris Day</td>\n",
       "      <td>adult standards</td>\n",
       "      <td>1948</td>\n",
       "      <td>177</td>\n",
       "      <td>34</td>\n",
       "      <td>42</td>\n",
       "      <td>-11</td>\n",
       "      <td>72</td>\n",
       "      <td>78</td>\n",
       "      <td>123</td>\n",
       "      <td>86</td>\n",
       "      <td>4</td>\n",
       "      <td>62</td>\n",
       "      <td>1940</td>\n",
       "    </tr>\n",
       "    <tr>\n",
       "      <th>2</th>\n",
       "      <td>Held for Questioning</td>\n",
       "      <td>Rusty Draper</td>\n",
       "      <td>deep adult standards</td>\n",
       "      <td>1953</td>\n",
       "      <td>109</td>\n",
       "      <td>65</td>\n",
       "      <td>70</td>\n",
       "      <td>-2</td>\n",
       "      <td>14</td>\n",
       "      <td>85</td>\n",
       "      <td>146</td>\n",
       "      <td>79</td>\n",
       "      <td>3</td>\n",
       "      <td>26</td>\n",
       "      <td>1950</td>\n",
       "    </tr>\n",
       "    <tr>\n",
       "      <th>3</th>\n",
       "      <td>Only Because</td>\n",
       "      <td>The Platters</td>\n",
       "      <td>adult standards</td>\n",
       "      <td>1957</td>\n",
       "      <td>73</td>\n",
       "      <td>28</td>\n",
       "      <td>55</td>\n",
       "      <td>-10</td>\n",
       "      <td>9</td>\n",
       "      <td>47</td>\n",
       "      <td>174</td>\n",
       "      <td>85</td>\n",
       "      <td>3</td>\n",
       "      <td>44</td>\n",
       "      <td>1950</td>\n",
       "    </tr>\n",
       "    <tr>\n",
       "      <th>4</th>\n",
       "      <td>Chicago - Remastered</td>\n",
       "      <td>Frank Sinatra</td>\n",
       "      <td>adult standards</td>\n",
       "      <td>1958</td>\n",
       "      <td>148</td>\n",
       "      <td>46</td>\n",
       "      <td>51</td>\n",
       "      <td>-10</td>\n",
       "      <td>40</td>\n",
       "      <td>79</td>\n",
       "      <td>134</td>\n",
       "      <td>61</td>\n",
       "      <td>7</td>\n",
       "      <td>47</td>\n",
       "      <td>1950</td>\n",
       "    </tr>\n",
       "  </tbody>\n",
       "</table>\n",
       "</div>"
      ],
      "text/plain": [
       "                                               title         artist   \n",
       "0  If I Give My Heart to You (with The Mellomen) ...      Doris Day  \\\n",
       "1  Whatever Will Be Will Be (Que Sera Sera) (with...      Doris Day   \n",
       "2                               Held for Questioning   Rusty Draper   \n",
       "3                                       Only Because   The Platters   \n",
       "4                               Chicago - Remastered  Frank Sinatra   \n",
       "\n",
       "              top genre  year  bpm  nrgy  dnce  dB  live  val  dur  acous   \n",
       "0       adult standards  1945   77     6    50 -16    10   33  169     97  \\\n",
       "1       adult standards  1948  177    34    42 -11    72   78  123     86   \n",
       "2  deep adult standards  1953  109    65    70  -2    14   85  146     79   \n",
       "3       adult standards  1957   73    28    55 -10     9   47  174     85   \n",
       "4       adult standards  1958  148    46    51 -10    40   79  134     61   \n",
       "\n",
       "   spch  pop  decade  \n",
       "0     5   52    1940  \n",
       "1     4   62    1940  \n",
       "2     3   26    1950  \n",
       "3     3   44    1950  \n",
       "4     7   47    1950  "
      ]
     },
     "execution_count": 33,
     "metadata": {},
     "output_type": "execute_result"
    }
   ],
   "source": [
    "df['decade'] = df['year'] // 10 * 10\n",
    "df.head()"
   ]
  },
  {
   "cell_type": "code",
<<<<<<< HEAD
   "execution_count": 34,
=======
   "execution_count": null,
>>>>>>> 0e490c365e64630c7981f6cbd864aedbee0ddf54
   "metadata": {},
   "outputs": [],
   "source": [
    "# extraer la columna década\n",
    "decade = df.pop('decade')"
   ]
  },
  {
   "cell_type": "code",
<<<<<<< HEAD
   "execution_count": 35,
=======
   "execution_count": null,
>>>>>>> 0e490c365e64630c7981f6cbd864aedbee0ddf54
   "metadata": {},
   "outputs": [
    {
     "data": {
      "text/plain": [
       "Index(['title', 'artist', 'top genre', 'year', 'bpm', 'nrgy', 'dnce', 'dB',\n",
       "       'live', 'val', 'dur', 'acous', 'spch', 'pop'],\n",
       "      dtype='object')"
      ]
     },
     "execution_count": 35,
     "metadata": {},
     "output_type": "execute_result"
    }
   ],
   "source": [
    "# ver las columnas\n",
    "df.columns"
   ]
  },
  {
   "cell_type": "code",
<<<<<<< HEAD
   "execution_count": 36,
=======
   "execution_count": null,
>>>>>>> 0e490c365e64630c7981f6cbd864aedbee0ddf54
   "metadata": {},
   "outputs": [
    {
     "data": {
      "text/plain": [
       "4"
      ]
     },
     "execution_count": 36,
     "metadata": {},
     "output_type": "execute_result"
    }
   ],
   "source": [
    "position = df.columns.get_loc('year') + 1\n",
    "position"
   ]
  },
  {
   "cell_type": "code",
<<<<<<< HEAD
   "execution_count": 37,
=======
   "execution_count": null,
>>>>>>> 0e490c365e64630c7981f6cbd864aedbee0ddf54
   "metadata": {},
   "outputs": [],
   "source": [
    "df.insert(position, 'decade', decade)"
   ]
  },
  {
   "cell_type": "code",
<<<<<<< HEAD
   "execution_count": 38,
=======
   "execution_count": null,
>>>>>>> 0e490c365e64630c7981f6cbd864aedbee0ddf54
   "metadata": {},
   "outputs": [
    {
     "data": {
      "text/html": [
       "<div>\n",
       "<style scoped>\n",
       "    .dataframe tbody tr th:only-of-type {\n",
       "        vertical-align: middle;\n",
       "    }\n",
       "\n",
       "    .dataframe tbody tr th {\n",
       "        vertical-align: top;\n",
       "    }\n",
       "\n",
       "    .dataframe thead th {\n",
       "        text-align: right;\n",
       "    }\n",
       "</style>\n",
       "<table border=\"1\" class=\"dataframe\">\n",
       "  <thead>\n",
       "    <tr style=\"text-align: right;\">\n",
       "      <th></th>\n",
       "      <th>title</th>\n",
       "      <th>artist</th>\n",
       "      <th>top genre</th>\n",
       "      <th>year</th>\n",
       "      <th>decade</th>\n",
       "      <th>bpm</th>\n",
       "      <th>nrgy</th>\n",
       "      <th>dnce</th>\n",
       "      <th>dB</th>\n",
       "      <th>live</th>\n",
       "      <th>val</th>\n",
       "      <th>dur</th>\n",
       "      <th>acous</th>\n",
       "      <th>spch</th>\n",
       "      <th>pop</th>\n",
       "    </tr>\n",
       "  </thead>\n",
       "  <tbody>\n",
       "    <tr>\n",
       "      <th>0</th>\n",
       "      <td>If I Give My Heart to You (with The Mellomen) ...</td>\n",
       "      <td>Doris Day</td>\n",
       "      <td>adult standards</td>\n",
       "      <td>1945</td>\n",
       "      <td>1940</td>\n",
       "      <td>77</td>\n",
       "      <td>6</td>\n",
       "      <td>50</td>\n",
       "      <td>-16</td>\n",
       "      <td>10</td>\n",
       "      <td>33</td>\n",
       "      <td>169</td>\n",
       "      <td>97</td>\n",
       "      <td>5</td>\n",
       "      <td>52</td>\n",
       "    </tr>\n",
       "    <tr>\n",
       "      <th>1</th>\n",
       "      <td>Whatever Will Be Will Be (Que Sera Sera) (with...</td>\n",
       "      <td>Doris Day</td>\n",
       "      <td>adult standards</td>\n",
       "      <td>1948</td>\n",
       "      <td>1940</td>\n",
       "      <td>177</td>\n",
       "      <td>34</td>\n",
       "      <td>42</td>\n",
       "      <td>-11</td>\n",
       "      <td>72</td>\n",
       "      <td>78</td>\n",
       "      <td>123</td>\n",
       "      <td>86</td>\n",
       "      <td>4</td>\n",
       "      <td>62</td>\n",
       "    </tr>\n",
       "    <tr>\n",
       "      <th>2</th>\n",
       "      <td>Held for Questioning</td>\n",
       "      <td>Rusty Draper</td>\n",
       "      <td>deep adult standards</td>\n",
       "      <td>1953</td>\n",
       "      <td>1950</td>\n",
       "      <td>109</td>\n",
       "      <td>65</td>\n",
       "      <td>70</td>\n",
       "      <td>-2</td>\n",
       "      <td>14</td>\n",
       "      <td>85</td>\n",
       "      <td>146</td>\n",
       "      <td>79</td>\n",
       "      <td>3</td>\n",
       "      <td>26</td>\n",
       "    </tr>\n",
       "    <tr>\n",
       "      <th>3</th>\n",
       "      <td>Only Because</td>\n",
       "      <td>The Platters</td>\n",
       "      <td>adult standards</td>\n",
       "      <td>1957</td>\n",
       "      <td>1950</td>\n",
       "      <td>73</td>\n",
       "      <td>28</td>\n",
       "      <td>55</td>\n",
       "      <td>-10</td>\n",
       "      <td>9</td>\n",
       "      <td>47</td>\n",
       "      <td>174</td>\n",
       "      <td>85</td>\n",
       "      <td>3</td>\n",
       "      <td>44</td>\n",
       "    </tr>\n",
       "    <tr>\n",
       "      <th>4</th>\n",
       "      <td>Chicago - Remastered</td>\n",
       "      <td>Frank Sinatra</td>\n",
       "      <td>adult standards</td>\n",
       "      <td>1958</td>\n",
       "      <td>1950</td>\n",
       "      <td>148</td>\n",
       "      <td>46</td>\n",
       "      <td>51</td>\n",
       "      <td>-10</td>\n",
       "      <td>40</td>\n",
       "      <td>79</td>\n",
       "      <td>134</td>\n",
       "      <td>61</td>\n",
       "      <td>7</td>\n",
       "      <td>47</td>\n",
       "    </tr>\n",
       "  </tbody>\n",
       "</table>\n",
       "</div>"
      ],
      "text/plain": [
       "                                               title         artist   \n",
       "0  If I Give My Heart to You (with The Mellomen) ...      Doris Day  \\\n",
       "1  Whatever Will Be Will Be (Que Sera Sera) (with...      Doris Day   \n",
       "2                               Held for Questioning   Rusty Draper   \n",
       "3                                       Only Because   The Platters   \n",
       "4                               Chicago - Remastered  Frank Sinatra   \n",
       "\n",
       "              top genre  year  decade  bpm  nrgy  dnce  dB  live  val  dur   \n",
       "0       adult standards  1945    1940   77     6    50 -16    10   33  169  \\\n",
       "1       adult standards  1948    1940  177    34    42 -11    72   78  123   \n",
       "2  deep adult standards  1953    1950  109    65    70  -2    14   85  146   \n",
       "3       adult standards  1957    1950   73    28    55 -10     9   47  174   \n",
       "4       adult standards  1958    1950  148    46    51 -10    40   79  134   \n",
       "\n",
       "   acous  spch  pop  \n",
       "0     97     5   52  \n",
       "1     86     4   62  \n",
       "2     79     3   26  \n",
       "3     85     3   44  \n",
       "4     61     7   47  "
      ]
     },
     "execution_count": 38,
     "metadata": {},
     "output_type": "execute_result"
    }
   ],
   "source": [
    "df.head()"
   ]
  },
  {
   "cell_type": "code",
<<<<<<< HEAD
   "execution_count": 39,
=======
   "execution_count": null,
>>>>>>> 0e490c365e64630c7981f6cbd864aedbee0ddf54
   "metadata": {},
   "outputs": [
    {
     "data": {
      "text/html": [
       "<div>\n",
       "<style scoped>\n",
       "    .dataframe tbody tr th:only-of-type {\n",
       "        vertical-align: middle;\n",
       "    }\n",
       "\n",
       "    .dataframe tbody tr th {\n",
       "        vertical-align: top;\n",
       "    }\n",
       "\n",
       "    .dataframe thead th {\n",
       "        text-align: right;\n",
       "    }\n",
       "</style>\n",
       "<table border=\"1\" class=\"dataframe\">\n",
       "  <thead>\n",
       "    <tr style=\"text-align: right;\">\n",
       "      <th></th>\n",
       "      <th>title</th>\n",
       "      <th>artist</th>\n",
       "      <th>top genre</th>\n",
       "      <th>year</th>\n",
       "      <th>decade</th>\n",
       "      <th>bpm</th>\n",
       "      <th>nrgy</th>\n",
       "      <th>dnce</th>\n",
       "      <th>dB</th>\n",
       "      <th>live</th>\n",
       "      <th>val</th>\n",
       "      <th>dur</th>\n",
       "      <th>acous</th>\n",
       "      <th>spch</th>\n",
       "      <th>pop</th>\n",
       "    </tr>\n",
       "  </thead>\n",
       "  <tbody>\n",
       "    <tr>\n",
       "      <th>1</th>\n",
       "      <td>Whatever Will Be Will Be (Que Sera Sera) (with...</td>\n",
       "      <td>Doris Day</td>\n",
       "      <td>adult standards</td>\n",
       "      <td>1948</td>\n",
       "      <td>1940</td>\n",
       "      <td>177</td>\n",
       "      <td>34</td>\n",
       "      <td>42</td>\n",
       "      <td>-11</td>\n",
       "      <td>72</td>\n",
       "      <td>78</td>\n",
       "      <td>123</td>\n",
       "      <td>86</td>\n",
       "      <td>4</td>\n",
       "      <td>62</td>\n",
       "    </tr>\n",
       "    <tr>\n",
       "      <th>8</th>\n",
       "      <td>A Teenager In Love</td>\n",
       "      <td>Dion &amp; The Belmonts</td>\n",
       "      <td>adult standards</td>\n",
       "      <td>1959</td>\n",
       "      <td>1950</td>\n",
       "      <td>79</td>\n",
       "      <td>38</td>\n",
       "      <td>56</td>\n",
       "      <td>-9</td>\n",
       "      <td>13</td>\n",
       "      <td>62</td>\n",
       "      <td>158</td>\n",
       "      <td>67</td>\n",
       "      <td>3</td>\n",
       "      <td>60</td>\n",
       "    </tr>\n",
       "    <tr>\n",
       "      <th>61</th>\n",
       "      <td>Here Comes The Sun - Remastered 2009</td>\n",
       "      <td>The Beatles</td>\n",
       "      <td>british invasion</td>\n",
       "      <td>1969</td>\n",
       "      <td>1960</td>\n",
       "      <td>129</td>\n",
       "      <td>54</td>\n",
       "      <td>56</td>\n",
       "      <td>-10</td>\n",
       "      <td>18</td>\n",
       "      <td>39</td>\n",
       "      <td>186</td>\n",
       "      <td>3</td>\n",
       "      <td>3</td>\n",
       "      <td>82</td>\n",
       "    </tr>\n",
       "    <tr>\n",
       "      <th>128</th>\n",
       "      <td>Bohemian Rhapsody - 2011 Mix</td>\n",
       "      <td>Queen</td>\n",
       "      <td>glam rock</td>\n",
       "      <td>1975</td>\n",
       "      <td>1970</td>\n",
       "      <td>71</td>\n",
       "      <td>40</td>\n",
       "      <td>41</td>\n",
       "      <td>-10</td>\n",
       "      <td>30</td>\n",
       "      <td>22</td>\n",
       "      <td>354</td>\n",
       "      <td>27</td>\n",
       "      <td>5</td>\n",
       "      <td>84</td>\n",
       "    </tr>\n",
       "    <tr>\n",
       "      <th>182</th>\n",
       "      <td>Africa</td>\n",
       "      <td>TOTO</td>\n",
       "      <td>album rock</td>\n",
       "      <td>1982</td>\n",
       "      <td>1980</td>\n",
       "      <td>93</td>\n",
       "      <td>37</td>\n",
       "      <td>67</td>\n",
       "      <td>-18</td>\n",
       "      <td>5</td>\n",
       "      <td>73</td>\n",
       "      <td>296</td>\n",
       "      <td>26</td>\n",
       "      <td>3</td>\n",
       "      <td>83</td>\n",
       "    </tr>\n",
       "    <tr>\n",
       "      <th>340</th>\n",
       "      <td>No Scrubs</td>\n",
       "      <td>TLC</td>\n",
       "      <td>atl hip hop</td>\n",
       "      <td>1999</td>\n",
       "      <td>1990</td>\n",
       "      <td>93</td>\n",
       "      <td>68</td>\n",
       "      <td>74</td>\n",
       "      <td>-4</td>\n",
       "      <td>7</td>\n",
       "      <td>59</td>\n",
       "      <td>214</td>\n",
       "      <td>3</td>\n",
       "      <td>10</td>\n",
       "      <td>79</td>\n",
       "    </tr>\n",
       "    <tr>\n",
       "      <th>347</th>\n",
       "      <td>In the End</td>\n",
       "      <td>Linkin Park</td>\n",
       "      <td>alternative metal</td>\n",
       "      <td>2000</td>\n",
       "      <td>2000</td>\n",
       "      <td>105</td>\n",
       "      <td>86</td>\n",
       "      <td>56</td>\n",
       "      <td>-6</td>\n",
       "      <td>21</td>\n",
       "      <td>40</td>\n",
       "      <td>217</td>\n",
       "      <td>1</td>\n",
       "      <td>6</td>\n",
       "      <td>83</td>\n",
       "    </tr>\n",
       "    <tr>\n",
       "      <th>652</th>\n",
       "      <td>bad guy</td>\n",
       "      <td>Billie Eilish</td>\n",
       "      <td>electropop</td>\n",
       "      <td>2019</td>\n",
       "      <td>2010</td>\n",
       "      <td>135</td>\n",
       "      <td>43</td>\n",
       "      <td>70</td>\n",
       "      <td>-11</td>\n",
       "      <td>10</td>\n",
       "      <td>56</td>\n",
       "      <td>194</td>\n",
       "      <td>33</td>\n",
       "      <td>38</td>\n",
       "      <td>94</td>\n",
       "    </tr>\n",
       "  </tbody>\n",
       "</table>\n",
       "</div>"
      ],
      "text/plain": [
       "                                                 title               artist   \n",
       "1    Whatever Will Be Will Be (Que Sera Sera) (with...            Doris Day  \\\n",
       "8                                   A Teenager In Love  Dion & The Belmonts   \n",
       "61                Here Comes The Sun - Remastered 2009          The Beatles   \n",
       "128                       Bohemian Rhapsody - 2011 Mix                Queen   \n",
       "182                                             Africa                 TOTO   \n",
       "340                                          No Scrubs                  TLC   \n",
       "347                                         In the End          Linkin Park   \n",
       "652                                            bad guy        Billie Eilish   \n",
       "\n",
       "             top genre  year  decade  bpm  nrgy  dnce  dB  live  val  dur   \n",
       "1      adult standards  1948    1940  177    34    42 -11    72   78  123  \\\n",
       "8      adult standards  1959    1950   79    38    56  -9    13   62  158   \n",
       "61    british invasion  1969    1960  129    54    56 -10    18   39  186   \n",
       "128          glam rock  1975    1970   71    40    41 -10    30   22  354   \n",
       "182         album rock  1982    1980   93    37    67 -18     5   73  296   \n",
       "340        atl hip hop  1999    1990   93    68    74  -4     7   59  214   \n",
       "347  alternative metal  2000    2000  105    86    56  -6    21   40  217   \n",
       "652         electropop  2019    2010  135    43    70 -11    10   56  194   \n",
       "\n",
       "     acous  spch  pop  \n",
       "1       86     4   62  \n",
       "8       67     3   60  \n",
       "61       3     3   82  \n",
       "128     27     5   84  \n",
       "182     26     3   83  \n",
       "340      3    10   79  \n",
       "347      1     6   83  \n",
       "652     33    38   94  "
      ]
     },
     "execution_count": 39,
     "metadata": {},
     "output_type": "execute_result"
    }
   ],
   "source": [
    "index = df.groupby('decade')['pop'].idxmax()\n",
    "df.loc[index]"
   ]
  },
  {
   "cell_type": "code",
<<<<<<< HEAD
   "execution_count": 40,
=======
   "execution_count": null,
>>>>>>> 0e490c365e64630c7981f6cbd864aedbee0ddf54
   "metadata": {},
   "outputs": [
    {
     "data": {
      "text/html": [
       "<div>\n",
       "<style scoped>\n",
       "    .dataframe tbody tr th:only-of-type {\n",
       "        vertical-align: middle;\n",
       "    }\n",
       "\n",
       "    .dataframe tbody tr th {\n",
       "        vertical-align: top;\n",
       "    }\n",
       "\n",
       "    .dataframe thead th {\n",
       "        text-align: right;\n",
       "    }\n",
       "</style>\n",
       "<table border=\"1\" class=\"dataframe\">\n",
       "  <thead>\n",
       "    <tr style=\"text-align: right;\">\n",
       "      <th></th>\n",
       "      <th>title</th>\n",
       "      <th>artist</th>\n",
       "      <th>top genre</th>\n",
       "      <th>year</th>\n",
       "      <th>decade</th>\n",
       "      <th>bpm</th>\n",
       "      <th>nrgy</th>\n",
       "      <th>dnce</th>\n",
       "      <th>dB</th>\n",
       "      <th>live</th>\n",
       "      <th>val</th>\n",
       "      <th>dur</th>\n",
       "      <th>acous</th>\n",
       "      <th>spch</th>\n",
       "      <th>pop</th>\n",
       "    </tr>\n",
       "  </thead>\n",
       "  <tbody>\n",
       "    <tr>\n",
       "      <th>0</th>\n",
       "      <td>If I Give My Heart to You (with The Mellomen) ...</td>\n",
       "      <td>Doris Day</td>\n",
       "      <td>adult standards</td>\n",
       "      <td>1945</td>\n",
       "      <td>1940</td>\n",
       "      <td>77</td>\n",
       "      <td>6</td>\n",
       "      <td>50</td>\n",
       "      <td>-16</td>\n",
       "      <td>10</td>\n",
       "      <td>33</td>\n",
       "      <td>169</td>\n",
       "      <td>97</td>\n",
       "      <td>5</td>\n",
       "      <td>52</td>\n",
       "    </tr>\n",
       "    <tr>\n",
       "      <th>1</th>\n",
       "      <td>Whatever Will Be Will Be (Que Sera Sera) (with...</td>\n",
       "      <td>Doris Day</td>\n",
       "      <td>adult standards</td>\n",
       "      <td>1948</td>\n",
       "      <td>1940</td>\n",
       "      <td>177</td>\n",
       "      <td>34</td>\n",
       "      <td>42</td>\n",
       "      <td>-11</td>\n",
       "      <td>72</td>\n",
       "      <td>78</td>\n",
       "      <td>123</td>\n",
       "      <td>86</td>\n",
       "      <td>4</td>\n",
       "      <td>62</td>\n",
       "    </tr>\n",
       "    <tr>\n",
       "      <th>2</th>\n",
       "      <td>Held for Questioning</td>\n",
       "      <td>Rusty Draper</td>\n",
       "      <td>deep adult standards</td>\n",
       "      <td>1953</td>\n",
       "      <td>1950</td>\n",
       "      <td>109</td>\n",
       "      <td>65</td>\n",
       "      <td>70</td>\n",
       "      <td>-2</td>\n",
       "      <td>14</td>\n",
       "      <td>85</td>\n",
       "      <td>146</td>\n",
       "      <td>79</td>\n",
       "      <td>3</td>\n",
       "      <td>26</td>\n",
       "    </tr>\n",
       "    <tr>\n",
       "      <th>3</th>\n",
       "      <td>Only Because</td>\n",
       "      <td>The Platters</td>\n",
       "      <td>adult standards</td>\n",
       "      <td>1957</td>\n",
       "      <td>1950</td>\n",
       "      <td>73</td>\n",
       "      <td>28</td>\n",
       "      <td>55</td>\n",
       "      <td>-10</td>\n",
       "      <td>9</td>\n",
       "      <td>47</td>\n",
       "      <td>174</td>\n",
       "      <td>85</td>\n",
       "      <td>3</td>\n",
       "      <td>44</td>\n",
       "    </tr>\n",
       "    <tr>\n",
       "      <th>4</th>\n",
       "      <td>Chicago - Remastered</td>\n",
       "      <td>Frank Sinatra</td>\n",
       "      <td>adult standards</td>\n",
       "      <td>1958</td>\n",
       "      <td>1950</td>\n",
       "      <td>148</td>\n",
       "      <td>46</td>\n",
       "      <td>51</td>\n",
       "      <td>-10</td>\n",
       "      <td>40</td>\n",
       "      <td>79</td>\n",
       "      <td>134</td>\n",
       "      <td>61</td>\n",
       "      <td>7</td>\n",
       "      <td>47</td>\n",
       "    </tr>\n",
       "  </tbody>\n",
       "</table>\n",
       "</div>"
      ],
      "text/plain": [
       "                                               title         artist   \n",
       "0  If I Give My Heart to You (with The Mellomen) ...      Doris Day  \\\n",
       "1  Whatever Will Be Will Be (Que Sera Sera) (with...      Doris Day   \n",
       "2                               Held for Questioning   Rusty Draper   \n",
       "3                                       Only Because   The Platters   \n",
       "4                               Chicago - Remastered  Frank Sinatra   \n",
       "\n",
       "              top genre  year  decade  bpm  nrgy  dnce  dB  live  val  dur   \n",
       "0       adult standards  1945    1940   77     6    50 -16    10   33  169  \\\n",
       "1       adult standards  1948    1940  177    34    42 -11    72   78  123   \n",
       "2  deep adult standards  1953    1950  109    65    70  -2    14   85  146   \n",
       "3       adult standards  1957    1950   73    28    55 -10     9   47  174   \n",
       "4       adult standards  1958    1950  148    46    51 -10    40   79  134   \n",
       "\n",
       "   acous  spch  pop  \n",
       "0     97     5   52  \n",
       "1     86     4   62  \n",
       "2     79     3   26  \n",
       "3     85     3   44  \n",
       "4     61     7   47  "
      ]
     },
     "execution_count": 40,
     "metadata": {},
     "output_type": "execute_result"
    }
   ],
   "source": [
    "df.head()"
   ]
  },
  {
   "cell_type": "code",
   "execution_count": 41,
   "metadata": {},
   "outputs": [
    {
     "data": {
      "text/plain": [
       "<Axes: >"
      ]
     },
     "execution_count": 41,
     "metadata": {},
     "output_type": "execute_result"
    },
    {
     "data": {
      "image/png": "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",
      "text/plain": [
       "<Figure size 640x480 with 1 Axes>"
      ]
     },
     "metadata": {},
     "output_type": "display_data"
    }
   ],
   "source": [
    "df['acous'].plot(kind='box')"
   ]
  },
  {
   "attachments": {},
   "cell_type": "markdown",
   "metadata": {},
   "source": [
    "## Duracion media de las canciones por año\n",
    "\n",
    "Utilizar el campo dur"
   ]
  },
  {
   "cell_type": "code",
   "execution_count": 46,
   "metadata": {},
   "outputs": [
    {
     "data": {
      "text/html": [
       "<div>\n",
       "<style scoped>\n",
       "    .dataframe tbody tr th:only-of-type {\n",
       "        vertical-align: middle;\n",
       "    }\n",
       "\n",
       "    .dataframe tbody tr th {\n",
       "        vertical-align: top;\n",
       "    }\n",
       "\n",
       "    .dataframe thead th {\n",
       "        text-align: right;\n",
       "    }\n",
       "</style>\n",
       "<table border=\"1\" class=\"dataframe\">\n",
       "  <thead>\n",
       "    <tr style=\"text-align: right;\">\n",
       "      <th></th>\n",
       "      <th>dur</th>\n",
       "    </tr>\n",
       "    <tr>\n",
       "      <th>year</th>\n",
       "      <th></th>\n",
       "    </tr>\n",
       "  </thead>\n",
       "  <tbody>\n",
       "    <tr>\n",
       "      <th>1945</th>\n",
       "      <td>169</td>\n",
       "    </tr>\n",
       "    <tr>\n",
       "      <th>1948</th>\n",
       "      <td>123</td>\n",
       "    </tr>\n",
       "    <tr>\n",
       "      <th>1953</th>\n",
       "      <td>146</td>\n",
       "    </tr>\n",
       "    <tr>\n",
       "      <th>1957</th>\n",
       "      <td>174</td>\n",
       "    </tr>\n",
       "    <tr>\n",
       "      <th>1958</th>\n",
       "      <td>144</td>\n",
       "    </tr>\n",
       "    <tr>\n",
       "      <th>...</th>\n",
       "      <td>...</td>\n",
       "    </tr>\n",
       "    <tr>\n",
       "      <th>2015</th>\n",
       "      <td>215</td>\n",
       "    </tr>\n",
       "    <tr>\n",
       "      <th>2016</th>\n",
       "      <td>203</td>\n",
       "    </tr>\n",
       "    <tr>\n",
       "      <th>2017</th>\n",
       "      <td>209</td>\n",
       "    </tr>\n",
       "    <tr>\n",
       "      <th>2018</th>\n",
       "      <td>214</td>\n",
       "    </tr>\n",
       "    <tr>\n",
       "      <th>2019</th>\n",
       "      <td>195</td>\n",
       "    </tr>\n",
       "  </tbody>\n",
       "</table>\n",
       "<p>66 rows × 1 columns</p>\n",
       "</div>"
      ],
      "text/plain": [
       "      dur\n",
       "year     \n",
       "1945  169\n",
       "1948  123\n",
       "1953  146\n",
       "1957  174\n",
       "1958  144\n",
       "...   ...\n",
       "2015  215\n",
       "2016  203\n",
       "2017  209\n",
       "2018  214\n",
       "2019  195\n",
       "\n",
       "[66 rows x 1 columns]"
      ]
     },
     "execution_count": 46,
     "metadata": {},
     "output_type": "execute_result"
    }
   ],
   "source": [
    "pd.DataFrame(df.groupby('year')['dur'].mean().round().astype(int))"
   ]
  },
  {
   "cell_type": "code",
   "execution_count": 47,
   "metadata": {},
   "outputs": [
    {
     "data": {
      "text/plain": [
       "<Axes: xlabel='year'>"
      ]
     },
     "execution_count": 47,
     "metadata": {},
     "output_type": "execute_result"
    },
    {
     "data": {
      "image/png": "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",
      "text/plain": [
       "<Figure size 640x480 with 1 Axes>"
      ]
     },
     "metadata": {},
     "output_type": "display_data"
    }
   ],
   "source": [
    "# para sacar el gráfico   .plot()\n",
    "pd.DataFrame(df.groupby('year')['dur'].mean().round().astype(int)).plot()"
   ]
  }
 ],
 "metadata": {
  "kernelspec": {
   "display_name": "Python 3",
   "language": "python",
   "name": "python3"
  },
  "language_info": {
   "codemirror_mode": {
    "name": "ipython",
    "version": 3
   },
   "file_extension": ".py",
   "mimetype": "text/x-python",
   "name": "python",
   "nbconvert_exporter": "python",
   "pygments_lexer": "ipython3",
   "version": "3.10.11"
  },
  "orig_nbformat": 4
 },
 "nbformat": 4,
 "nbformat_minor": 2
}
