{
 "cells": [
  {
   "attachments": {},
   "cell_type": "markdown",
   "metadata": {},
   "source": [
    "### Pipelines de operaciones\n",
    "\n",
    "Agrupar múltiples operaciones en un mismo objeto\n",
    "\n",
    "* Imputar nulos\n",
    "* Codificación de categóricos\n",
    "* Escalada de datos\n",
    "* Modelado"
   ]
  },
  {
   "cell_type": "code",
   "execution_count": 4,
   "metadata": {},
   "outputs": [],
   "source": [
    "import pandas as pd\n",
    "import numpy as np\n",
    "import matplotlib.pyplot as plt\n",
    "import seaborn as sns"
   ]
  },
  {
   "cell_type": "code",
   "execution_count": 5,
   "metadata": {},
   "outputs": [
    {
     "data": {
      "text/plain": [
       "species               0\n",
       "island                0\n",
       "bill_length_mm        2\n",
       "bill_depth_mm         2\n",
       "flipper_length_mm     2\n",
       "body_mass_g           2\n",
       "sex                  11\n",
       "dtype: int64"
      ]
     },
     "execution_count": 5,
     "metadata": {},
     "output_type": "execute_result"
    }
   ],
   "source": [
    "df = sns.load_dataset('penguins')\n",
    "df.isnull().sum()"
   ]
  },
  {
   "cell_type": "code",
   "execution_count": null,
   "metadata": {},
   "outputs": [],
   "source": [
    "from sklearn.compose import ColumnTransformer\n",
    "from sklearn.linear_model import LinearRegression\n",
    "from sklearn.pipeline import Pipeline\n",
    "from sklearn.preprocessing import MinMaxScaler,OneHotEncoder\n",
    "from sklearn.impute import SimpleImputer\n",
    "\n",
    "# Columnas numéricas\n",
    "pipeline_numeric = Pipeline([\n",
    "    ('impute_median', SimpleImputer(strategy='median')),\n",
    "    ('scaler', MinMaxScaler())\n",
    "])\n",
    "\n",
    "# Columnas categóricas\n",
    "pipeline_categorical = Pipeline([\n",
    "    ('impute_mode', SimpleImputer(strategy='most_frequent')),\n",
    "    ('encoder', OneHotEncoder(drop='first', sparse=False))\n",
    "])\n",
    "# Preparar X, y\n",
    "X = df.drop('body_mass_g', axis=1)\n",
    "y = df['body_mass_g']\n",
    "\n",
    "\n",
    "# mapear pipelines a columnas\n",
    "\n",
    "numeric_col_names = X.select_dtypes(include=np.number).columns.to_list()\n",
    "categorical_col_names = X.select_dtypes(include='object').columns.to_list()\n",
    "\n",
    "prepocessor = ColumnTransformer([\n",
    "    ('numerical', pipeline_numeric, numeric_col_names),\n",
    "    ('categorical', pipeline_categorical, categorical_col_names)\n",
    "])\n",
    "\n",
    "pipeline = Pipeline([\n",
    "    prepocessor,\n",
    "    LinearRegression()\n",
    "])\n",
    "\n"
   ]
  }
 ],
 "metadata": {
  "kernelspec": {
   "display_name": "Python 3",
   "language": "python",
   "name": "python3"
  },
  "language_info": {
   "codemirror_mode": {
    "name": "ipython",
    "version": 3
   },
   "file_extension": ".py",
   "mimetype": "text/x-python",
   "name": "python",
   "nbconvert_exporter": "python",
   "pygments_lexer": "ipython3",
   "version": "3.10.11"
  },
  "orig_nbformat": 4
 },
 "nbformat": 4,
 "nbformat_minor": 2
}
